{
 "cells": [
  {
   "cell_type": "markdown",
   "id": "41619c30",
   "metadata": {},
   "source": [
    "# Identifiez le graphique adapté\n",
    "on peut utiliser des diagrammes en ligne, ou en courbes, des diagrammes à barres (une variable numérique qui évolue dans le temps ), diagrammes circulaires (lorsqu’on a des données agrégées sur une variable non numérique), \n",
    "l’idéal (comme nous le verrons un peu plus tard) reste tout de même les diagrammes à barres\n",
    "On peut tracer plusieurs points (un pour chaque ligne) en mettant l’une des variables en abscisse et l’autre en ordonnée : c’est ce qu’on appelle un nuage de points\n",
    "\n",
    "## Cernez les bonnes pratiques de la dataviz\n",
    "- Privilégiez la simplicité\n",
    "- Clarifiez votre graphique :\n",
    "(Les titres des axes. On a même ici précisé l’unité !\n",
    "La légende pour la compréhension des couleurs.\n",
    "Le titre, qui nous indique clairement de qui et de quoi on parle.\n",
    "Les valeurs indiquées au-dessus des barres pour éviter l’imprécision.)\n"
   ]
  },
  {
   "cell_type": "markdown",
   "id": "ed3ccd7a",
   "metadata": {},
   "source": [
    "# En résumé\n",
    "La datavisualisation est un ensemble de techniques utilisées pour représenter visuellement des informations clés sur un gros volume de données, afin d’en permettre la compréhension et l’analyse.\n",
    "\n",
    "Pour représenter :\n",
    "\n",
    "une évolution dans le temps, on privilégiera des diagrammes en barres ou des courbes ;\n",
    "\n",
    "une comparaison entre différents groupes, on utilisera un diagramme circulaire ou un diagrammes en barres ;\n",
    "\n",
    "une distribution, on privilégiera un histogramme ou un diagramme à densité ;\n",
    "\n",
    "la relation entre 2 variables numériques, on développera un nuage de points.\n",
    "\n",
    "Il existe quelques règles à observer pour réaliser un graphique efficace : \n",
    "\n",
    "privilégier la simplicité, quitte à multiplier le nombre de graphiques ;\n",
    "\n",
    "privilégier la clarté, en proposant le plus d’informations possible pour permettre au lecteur d’interpréter seul ce graphique ;\n",
    "\n",
    "choisir le graphique adéquat en fonction de ce qu’on cherche à représenter.  \n",
    "https://matplotlib.org/3.5.0/api/_as_gen/matplotlib.pyplot.scatter.html\n",
    "\n",
    "https://matplotlib.org/stable/api/_as_gen/matplotlib.pyplot.pie.html\n",
    "\n",
    "https://matplotlib.org/3.5.0/api/_as_gen/matplotlib.pyplot.bar.html\n",
    "\n",
    "https://matplotlib.org/3.5.0/api/_as_gen/matplotlib.pyplot.hist.html\n",
    "\n",
    "DEVOIR: https://nbviewer.org/urls/gist.githubusercontent.com/Jwink3101/e6b57eba3beca4b05ec146d9e38fc839/raw/f486ca3dcad44c33fc4e7ddedc1f83b82c02b492/Matplotlib_Cheatsheet"
   ]
  },
  {
   "cell_type": "code",
   "execution_count": 1,
   "id": "767c737e",
   "metadata": {},
   "outputs": [],
   "source": [
    "import matplotlib.pyplot as plt"
   ]
  },
  {
   "cell_type": "markdown",
   "id": "7263b495",
   "metadata": {},
   "source": [
    "Chaque représentation graphique a une fonction correspondante avec Matplotlib :\n",
    "\n",
    "- nuage de points ou scatter plot, en anglais :scatter() ;\n",
    "- diagrammes en ligne ou en courbes :plot() ;\n",
    "- diagrammes en barres :bar() ;\n",
    "- histogrammes :hist() ;\n",
    "- diagrammes circulaires :pie() ."
   ]
  },
  {
   "cell_type": "code",
   "execution_count": 2,
   "id": "29343e7e",
   "metadata": {},
   "outputs": [],
   "source": [
    "import pandas as pd\n",
    "import numpy as np"
   ]
  },
  {
   "cell_type": "code",
   "execution_count": 3,
   "id": "e068a868",
   "metadata": {},
   "outputs": [
    {
     "data": {
      "text/html": [
       "<div>\n",
       "<style scoped>\n",
       "    .dataframe tbody tr th:only-of-type {\n",
       "        vertical-align: middle;\n",
       "    }\n",
       "\n",
       "    .dataframe tbody tr th {\n",
       "        vertical-align: top;\n",
       "    }\n",
       "\n",
       "    .dataframe thead th {\n",
       "        text-align: right;\n",
       "    }\n",
       "</style>\n",
       "<table border=\"1\" class=\"dataframe\">\n",
       "  <thead>\n",
       "    <tr style=\"text-align: right;\">\n",
       "      <th></th>\n",
       "      <th>identifiant</th>\n",
       "      <th>ville</th>\n",
       "      <th>CP</th>\n",
       "      <th>revenu</th>\n",
       "      <th>remboursement</th>\n",
       "      <th>duree</th>\n",
       "      <th>type</th>\n",
       "      <th>taux</th>\n",
       "    </tr>\n",
       "  </thead>\n",
       "  <tbody>\n",
       "    <tr>\n",
       "      <th>0</th>\n",
       "      <td>0</td>\n",
       "      <td>TOULOUSE</td>\n",
       "      <td>31100</td>\n",
       "      <td>3669.0</td>\n",
       "      <td>1130.05</td>\n",
       "      <td>240</td>\n",
       "      <td>immobilier</td>\n",
       "      <td>1.168</td>\n",
       "    </tr>\n",
       "    <tr>\n",
       "      <th>1</th>\n",
       "      <td>1</td>\n",
       "      <td>PARIS</td>\n",
       "      <td>75009</td>\n",
       "      <td>5310.0</td>\n",
       "      <td>240.00</td>\n",
       "      <td>64</td>\n",
       "      <td>automobile</td>\n",
       "      <td>3.701</td>\n",
       "    </tr>\n",
       "    <tr>\n",
       "      <th>2</th>\n",
       "      <td>1</td>\n",
       "      <td>PARIS</td>\n",
       "      <td>75009</td>\n",
       "      <td>5310.0</td>\n",
       "      <td>1247.85</td>\n",
       "      <td>300</td>\n",
       "      <td>immobilier</td>\n",
       "      <td>1.173</td>\n",
       "    </tr>\n",
       "    <tr>\n",
       "      <th>3</th>\n",
       "      <td>2</td>\n",
       "      <td>MARSEILLE</td>\n",
       "      <td>13010</td>\n",
       "      <td>1873.0</td>\n",
       "      <td>552.54</td>\n",
       "      <td>240</td>\n",
       "      <td>immobilier</td>\n",
       "      <td>0.972</td>\n",
       "    </tr>\n",
       "    <tr>\n",
       "      <th>4</th>\n",
       "      <td>3</td>\n",
       "      <td>MARSEILLE</td>\n",
       "      <td>13010</td>\n",
       "      <td>1684.0</td>\n",
       "      <td>586.03</td>\n",
       "      <td>180</td>\n",
       "      <td>immobilier</td>\n",
       "      <td>1.014</td>\n",
       "    </tr>\n",
       "  </tbody>\n",
       "</table>\n",
       "</div>"
      ],
      "text/plain": [
       "   identifiant      ville     CP  revenu  remboursement  duree        type  \\\n",
       "0            0   TOULOUSE  31100  3669.0        1130.05    240  immobilier   \n",
       "1            1      PARIS  75009  5310.0         240.00     64  automobile   \n",
       "2            1      PARIS  75009  5310.0        1247.85    300  immobilier   \n",
       "3            2  MARSEILLE  13010  1873.0         552.54    240  immobilier   \n",
       "4            3  MARSEILLE  13010  1684.0         586.03    180  immobilier   \n",
       "\n",
       "    taux  \n",
       "0  1.168  \n",
       "1  3.701  \n",
       "2  1.173  \n",
       "3  0.972  \n",
       "4  1.014  "
      ]
     },
     "execution_count": 3,
     "metadata": {},
     "output_type": "execute_result"
    }
   ],
   "source": [
    "prets = pd.read_csv('prets.txt')\n",
    "prets.head()"
   ]
  },
  {
   "cell_type": "code",
   "execution_count": 6,
   "id": "ea04c5ba",
   "metadata": {},
   "outputs": [
    {
     "data": {
      "text/html": [
       "<div>\n",
       "<style scoped>\n",
       "    .dataframe tbody tr th:only-of-type {\n",
       "        vertical-align: middle;\n",
       "    }\n",
       "\n",
       "    .dataframe tbody tr th {\n",
       "        vertical-align: top;\n",
       "    }\n",
       "\n",
       "    .dataframe thead th {\n",
       "        text-align: right;\n",
       "    }\n",
       "</style>\n",
       "<table border=\"1\" class=\"dataframe\">\n",
       "  <thead>\n",
       "    <tr style=\"text-align: right;\">\n",
       "      <th></th>\n",
       "      <th>identifiant</th>\n",
       "      <th>ville</th>\n",
       "      <th>CP</th>\n",
       "      <th>revenu</th>\n",
       "      <th>remboursement</th>\n",
       "      <th>duree</th>\n",
       "      <th>type</th>\n",
       "      <th>taux_interet</th>\n",
       "      <th>taux_endettement</th>\n",
       "      <th>cout_total</th>\n",
       "      <th>benefices</th>\n",
       "      <th>risque</th>\n",
       "    </tr>\n",
       "  </thead>\n",
       "  <tbody>\n",
       "    <tr>\n",
       "      <th>0</th>\n",
       "      <td>0</td>\n",
       "      <td>TOULOUSE</td>\n",
       "      <td>31100</td>\n",
       "      <td>3669.0</td>\n",
       "      <td>1130.05</td>\n",
       "      <td>240</td>\n",
       "      <td>immobilier</td>\n",
       "      <td>1.168</td>\n",
       "      <td>30.80</td>\n",
       "      <td>271212.0</td>\n",
       "      <td>131.99</td>\n",
       "      <td>Non</td>\n",
       "    </tr>\n",
       "    <tr>\n",
       "      <th>1</th>\n",
       "      <td>1</td>\n",
       "      <td>PARIS</td>\n",
       "      <td>75009</td>\n",
       "      <td>5310.0</td>\n",
       "      <td>240.00</td>\n",
       "      <td>64</td>\n",
       "      <td>automobile</td>\n",
       "      <td>3.701</td>\n",
       "      <td>4.52</td>\n",
       "      <td>15360.0</td>\n",
       "      <td>23.69</td>\n",
       "      <td>Non</td>\n",
       "    </tr>\n",
       "    <tr>\n",
       "      <th>2</th>\n",
       "      <td>1</td>\n",
       "      <td>PARIS</td>\n",
       "      <td>75009</td>\n",
       "      <td>5310.0</td>\n",
       "      <td>1247.85</td>\n",
       "      <td>300</td>\n",
       "      <td>immobilier</td>\n",
       "      <td>1.173</td>\n",
       "      <td>23.50</td>\n",
       "      <td>374355.0</td>\n",
       "      <td>182.97</td>\n",
       "      <td>Non</td>\n",
       "    </tr>\n",
       "    <tr>\n",
       "      <th>3</th>\n",
       "      <td>2</td>\n",
       "      <td>MARSEILLE</td>\n",
       "      <td>13010</td>\n",
       "      <td>1873.0</td>\n",
       "      <td>552.54</td>\n",
       "      <td>240</td>\n",
       "      <td>immobilier</td>\n",
       "      <td>0.972</td>\n",
       "      <td>29.50</td>\n",
       "      <td>132609.6</td>\n",
       "      <td>53.71</td>\n",
       "      <td>Non</td>\n",
       "    </tr>\n",
       "    <tr>\n",
       "      <th>4</th>\n",
       "      <td>3</td>\n",
       "      <td>MARSEILLE</td>\n",
       "      <td>13010</td>\n",
       "      <td>1684.0</td>\n",
       "      <td>586.03</td>\n",
       "      <td>180</td>\n",
       "      <td>immobilier</td>\n",
       "      <td>1.014</td>\n",
       "      <td>34.80</td>\n",
       "      <td>105485.4</td>\n",
       "      <td>44.57</td>\n",
       "      <td>Non</td>\n",
       "    </tr>\n",
       "  </tbody>\n",
       "</table>\n",
       "</div>"
      ],
      "text/plain": [
       "   identifiant      ville     CP  revenu  remboursement  duree        type  \\\n",
       "0            0   TOULOUSE  31100  3669.0        1130.05    240  immobilier   \n",
       "1            1      PARIS  75009  5310.0         240.00     64  automobile   \n",
       "2            1      PARIS  75009  5310.0        1247.85    300  immobilier   \n",
       "3            2  MARSEILLE  13010  1873.0         552.54    240  immobilier   \n",
       "4            3  MARSEILLE  13010  1684.0         586.03    180  immobilier   \n",
       "\n",
       "   taux_interet  taux_endettement  cout_total  benefices risque  \n",
       "0         1.168             30.80    271212.0     131.99    Non  \n",
       "1         3.701              4.52     15360.0      23.69    Non  \n",
       "2         1.173             23.50    374355.0     182.97    Non  \n",
       "3         0.972             29.50    132609.6      53.71    Non  \n",
       "4         1.014             34.80    105485.4      44.57    Non  "
      ]
     },
     "execution_count": 6,
     "metadata": {},
     "output_type": "execute_result"
    }
   ],
   "source": [
    "\n",
    "# calcul du taux d'endettement\n",
    "prets['taux_endettement'] = round(prets['remboursement'] * 100 / prets['revenu'], 2)\n",
    "\n",
    "# renommer taux en taux_interet\n",
    "prets.rename(columns={'taux':'taux_interet'}, inplace=True)\n",
    "\n",
    "# calculer le cout total du pret\n",
    "prets['cout_total'] = prets['remboursement'] * prets['duree']\n",
    "\n",
    "# calculer les bénéfices mensuels réalisés\n",
    "prets['benefices'] = round((prets['cout_total'] * prets['taux_interet']/100)/(24), 2)\n",
    "\n",
    "# création d'une variable risque\n",
    "prets['risque'] = 'Non'\n",
    "prets.loc[prets['taux_endettement'] > 35, 'risque'] = 'Oui'\n",
    "\n",
    "# dataframe de profils clients\n",
    "profil_clients = prets.groupby('identifiant')[['remboursement','taux_endettement','cout_total','benefices']].sum()\n",
    "profil_clients.reset_index(inplace=True)\n",
    "profil_clients.head()\n",
    "\n",
    "prets.head()\n"
   ]
  },
  {
   "cell_type": "markdown",
   "id": "c692c2fe",
   "metadata": {},
   "source": [
    "### nuage de points ou scatter plot, en anglais :scatter()"
   ]
  },
  {
   "cell_type": "code",
   "execution_count": 7,
   "id": "a95b188f",
   "metadata": {},
   "outputs": [
    {
     "data": {
      "text/plain": [
       "<matplotlib.collections.PathCollection at 0xf852afeaf0>"
      ]
     },
     "execution_count": 7,
     "metadata": {},
     "output_type": "execute_result"
    },
    {
     "data": {
      "image/png": "[encoded data removed]",
      "text/plain": [
       "<Figure size 432x288 with 1 Axes>"
      ]
     },
     "metadata": {
      "needs_background": "light"
     },
     "output_type": "display_data"
    }
   ],
   "source": [
    "plt.scatter(prets['revenu'], prets['taux_endettement'])"
   ]
  },
  {
   "cell_type": "markdown",
   "id": "995eb037",
   "metadata": {},
   "source": [
    "Il existe de nombreuses options pour personnaliser un nuage de points. On peut modifier :\n",
    "\n",
    "- la couleur des points, en utilisant l’argument color ou c ;\n",
    "- la taille des points, via l’argument size ou s ;\n",
    "- le type de marqueur via l’argument marker ;\n",
    "- la transparence des points via l’argument alpha ."
   ]
  },
  {
   "cell_type": "code",
   "execution_count": 8,
   "id": "5bf7626d",
   "metadata": {},
   "outputs": [
    {
     "data": {
      "text/plain": [
       "<matplotlib.collections.PathCollection at 0xf85329dd60>"
      ]
     },
     "execution_count": 8,
     "metadata": {},
     "output_type": "execute_result"
    },
    {
     "data": {
      "image/png": "[encoded data removed]",
      "text/plain": [
       "<Figure size 432x288 with 1 Axes>"
      ]
     },
     "metadata": {
      "needs_background": "light"
     },
     "output_type": "display_data"
    }
   ],
   "source": [
    "plt.scatter(prets['revenu'], prets['taux_endettement'], s=60, alpha=0.5, c='red', marker='P')"
   ]
  },
  {
   "cell_type": "markdown",
   "id": "8368f1e6",
   "metadata": {},
   "source": [
    "### diagramme circulaire : pie()\n",
    " Il y a deux arguments à préciser :labels , correspondant à la variable non numérique, celle sur laquelle ont été agrégées les données, et x, les valeurs agrégées correspondantes."
   ]
  },
  {
   "cell_type": "code",
   "execution_count": 10,
   "id": "766ad4e6",
   "metadata": {},
   "outputs": [
    {
     "data": {
      "text/plain": [
       "ville\n",
       "BORDEAUX     15330.59\n",
       "LYON         26064.67\n",
       "MARSEILLE    40895.72\n",
       "NICE         23544.24\n",
       "PARIS        94052.61\n",
       "TOULOUSE     19286.18\n",
       "Name: remboursement, dtype: float64"
      ]
     },
     "execution_count": 10,
     "metadata": {},
     "output_type": "execute_result"
    }
   ],
   "source": [
    "data = prets.groupby('ville')['remboursement'].sum()\n",
    "data"
   ]
  },
  {
   "cell_type": "code",
   "execution_count": 12,
   "id": "7532ef7a",
   "metadata": {},
   "outputs": [
    {
     "data": {
      "text/html": [
       "<div>\n",
       "<style scoped>\n",
       "    .dataframe tbody tr th:only-of-type {\n",
       "        vertical-align: middle;\n",
       "    }\n",
       "\n",
       "    .dataframe tbody tr th {\n",
       "        vertical-align: top;\n",
       "    }\n",
       "\n",
       "    .dataframe thead th {\n",
       "        text-align: right;\n",
       "    }\n",
       "</style>\n",
       "<table border=\"1\" class=\"dataframe\">\n",
       "  <thead>\n",
       "    <tr style=\"text-align: right;\">\n",
       "      <th></th>\n",
       "      <th>ville</th>\n",
       "      <th>remboursement</th>\n",
       "    </tr>\n",
       "  </thead>\n",
       "  <tbody>\n",
       "    <tr>\n",
       "      <th>0</th>\n",
       "      <td>BORDEAUX</td>\n",
       "      <td>15330.59</td>\n",
       "    </tr>\n",
       "    <tr>\n",
       "      <th>1</th>\n",
       "      <td>LYON</td>\n",
       "      <td>26064.67</td>\n",
       "    </tr>\n",
       "    <tr>\n",
       "      <th>2</th>\n",
       "      <td>MARSEILLE</td>\n",
       "      <td>40895.72</td>\n",
       "    </tr>\n",
       "    <tr>\n",
       "      <th>3</th>\n",
       "      <td>NICE</td>\n",
       "      <td>23544.24</td>\n",
       "    </tr>\n",
       "    <tr>\n",
       "      <th>4</th>\n",
       "      <td>PARIS</td>\n",
       "      <td>94052.61</td>\n",
       "    </tr>\n",
       "    <tr>\n",
       "      <th>5</th>\n",
       "      <td>TOULOUSE</td>\n",
       "      <td>19286.18</td>\n",
       "    </tr>\n",
       "  </tbody>\n",
       "</table>\n",
       "</div>"
      ],
      "text/plain": [
       "       ville  remboursement\n",
       "0   BORDEAUX       15330.59\n",
       "1       LYON       26064.67\n",
       "2  MARSEILLE       40895.72\n",
       "3       NICE       23544.24\n",
       "4      PARIS       94052.61\n",
       "5   TOULOUSE       19286.18"
      ]
     },
     "execution_count": 12,
     "metadata": {},
     "output_type": "execute_result"
    }
   ],
   "source": [
    "data = prets.groupby('ville')['remboursement'].sum()\n",
    "data = data.reset_index()\n",
    "data"
   ]
  },
  {
   "cell_type": "code",
   "execution_count": 13,
   "id": "8877639f",
   "metadata": {},
   "outputs": [
    {
     "data": {
      "text/plain": [
       "([<matplotlib.patches.Wedge at 0xf85330fac0>,\n",
       "  <matplotlib.patches.Wedge at 0xf85330ffd0>,\n",
       "  <matplotlib.patches.Wedge at 0xf8533204f0>,\n",
       "  <matplotlib.patches.Wedge at 0xf8533209d0>,\n",
       "  <matplotlib.patches.Wedge at 0xf853320eb0>,\n",
       "  <matplotlib.patches.Wedge at 0xf85332c3d0>],\n",
       " [Text(1.0735482898052735, 0.2397792098080497, 'BORDEAUX'),\n",
       "  Text(0.7559779933342196, 0.7990602440331811, 'LYON'),\n",
       "  Text(-0.22079479320563614, 1.0776129450286316, 'MARSEILLE'),\n",
       "  Text(-0.9928563505107825, 0.4735359197045252, 'NICE'),\n",
       "  Text(-0.3566773649937175, -1.0405677571889005, 'PARIS'),\n",
       "  Text(1.0582353655336645, -0.30022976390396683, 'TOULOUSE')])"
      ]
     },
     "execution_count": 13,
     "metadata": {},
     "output_type": "execute_result"
    },
    {
     "data": {
      "image/png": "[encoded data removed]",
      "text/plain": [
       "<Figure size 432x288 with 1 Axes>"
      ]
     },
     "metadata": {},
     "output_type": "display_data"
    }
   ],
   "source": [
    "plt.pie(x=data['remboursement'], labels=data['ville'])"
   ]
  },
  {
   "cell_type": "markdown",
   "id": "7e935056",
   "metadata": {},
   "source": [
    "#### le pourcentage associé à chaque “part”. \n",
    "Pour cela, il faut spécifier un format numérique via l’argument autopct\n",
    " il permet d’afficher la part du chiffre d'affaires total réalisé par chaque agence, avec 2 chiffres après la virgule, et suivie du caractère% ."
   ]
  },
  {
   "cell_type": "code",
   "execution_count": 14,
   "id": "c5ebf7a8",
   "metadata": {},
   "outputs": [
    {
     "data": {
      "text/plain": [
       "([<matplotlib.patches.Wedge at 0xf853379040>,\n",
       "  <matplotlib.patches.Wedge at 0xf853379760>,\n",
       "  <matplotlib.patches.Wedge at 0xf853379e80>,\n",
       "  <matplotlib.patches.Wedge at 0xf8533865e0>,\n",
       "  <matplotlib.patches.Wedge at 0xf853386d00>,\n",
       "  <matplotlib.patches.Wedge at 0xf853395460>],\n",
       " [Text(1.0735482898052735, 0.2397792098080497, 'BORDEAUX'),\n",
       "  Text(0.7559779933342196, 0.7990602440331811, 'LYON'),\n",
       "  Text(-0.22079479320563614, 1.0776129450286316, 'MARSEILLE'),\n",
       "  Text(-0.9928563505107825, 0.4735359197045252, 'NICE'),\n",
       "  Text(-0.3566773649937175, -1.0405677571889005, 'PARIS'),\n",
       "  Text(1.0582353655336645, -0.30022976390396683, 'TOULOUSE')],\n",
       " [Text(0.58557179443924, 0.1307886598952998, '6.99%'),\n",
       "  Text(0.41235163272775605, 0.43585104219991694, '11.89%'),\n",
       "  Text(-0.12043352356671061, 0.5877888791065262, '18.66%'),\n",
       "  Text(-0.5415580093695176, 0.2582923198388319, '10.74%'),\n",
       "  Text(-0.19455128999657315, -0.5675824130121274, '42.91%'),\n",
       "  Text(0.5772192902910896, -0.1637616894021637, '8.80%')])"
      ]
     },
     "execution_count": 14,
     "metadata": {},
     "output_type": "execute_result"
    },
    {
     "data": {
      "image/png": "[encoded data removed]",
      "text/plain": [
       "<Figure size 432x288 with 1 Axes>"
      ]
     },
     "metadata": {},
     "output_type": "display_data"
    }
   ],
   "source": [
    "plt.pie(x=data['remboursement'], labels=data['ville'], autopct='%.2f%%')"
   ]
  },
  {
   "cell_type": "markdown",
   "id": "36df3cc7",
   "metadata": {},
   "source": [
    "### diagrammes en barres :bar() \n",
    "la fonction bar , qui est l’implémentation de Matplotlib des diagrammes à barres, il faut préciser deux arguments :\n",
    "\n",
    "- x : les différentes valeurs de la variable non numérique, l’équivalent du labels de pie ;\n",
    "- height : les valeurs agrégées, équivalent du x  de pie ."
   ]
  },
  {
   "cell_type": "code",
   "execution_count": 15,
   "id": "9e74acca",
   "metadata": {},
   "outputs": [
    {
     "data": {
      "text/plain": [
       "<BarContainer object of 6 artists>"
      ]
     },
     "execution_count": 15,
     "metadata": {},
     "output_type": "execute_result"
    },
    {
     "data": {
      "image/png": "[encoded data removed]",
      "text/plain": [
       "<Figure size 432x288 with 1 Axes>"
      ]
     },
     "metadata": {
      "needs_background": "light"
     },
     "output_type": "display_data"
    }
   ],
   "source": [
    "plt.bar(height=data['remboursement'], x=data['ville'])"
   ]
  },
  {
   "cell_type": "markdown",
   "id": "7a8de43d",
   "metadata": {},
   "source": [
    "ordonner du plus grand au plus petit : on peut tout de même trier le data frame en amont."
   ]
  },
  {
   "cell_type": "code",
   "execution_count": 17,
   "id": "6fe6337f",
   "metadata": {},
   "outputs": [
    {
     "data": {
      "text/plain": [
       "<BarContainer object of 6 artists>"
      ]
     },
     "execution_count": 17,
     "metadata": {},
     "output_type": "execute_result"
    },
    {
     "data": {
      "image/png": "[encoded data removed]",
      "text/plain": [
       "<Figure size 432x288 with 1 Axes>"
      ]
     },
     "metadata": {
      "needs_background": "light"
     },
     "output_type": "display_data"
    }
   ],
   "source": [
    "data_sorted = data.sort_values('remboursement', ascending=True)\n",
    "plt.bar(height=data_sorted['remboursement'], x=data_sorted['ville'])"
   ]
  },
  {
   "cell_type": "markdown",
   "id": "c95bd730",
   "metadata": {},
   "source": [
    "### histogrammes :hist()\n",
    "histogramme est particulièrement utile lorsqu’on souhaite avoir une idée de la distribution d’une variable"
   ]
  },
  {
   "cell_type": "code",
   "execution_count": 18,
   "id": "b08688cf",
   "metadata": {},
   "outputs": [
    {
     "data": {
      "text/plain": [
       "(array([38., 42., 43., 27., 31., 17., 10., 11., 15., 10.]),\n",
       " array([1200. , 1760.7, 2321.4, 2882.1, 3442.8, 4003.5, 4564.2, 5124.9,\n",
       "        5685.6, 6246.3, 6807. ]),\n",
       " <BarContainer object of 10 artists>)"
      ]
     },
     "execution_count": 18,
     "metadata": {},
     "output_type": "execute_result"
    },
    {
     "data": {
      "image/png": "[encoded data removed]",
      "text/plain": [
       "<Figure size 432x288 with 1 Axes>"
      ]
     },
     "metadata": {
      "needs_background": "light"
     },
     "output_type": "display_data"
    }
   ],
   "source": [
    "plt.hist(prets['revenu'])"
   ]
  },
  {
   "cell_type": "markdown",
   "id": "e33a94e1",
   "metadata": {},
   "source": [
    "### courbes\n",
    "on utilise la fonction plot de Matplotlib. Celle-ci prend deux arguments en entrée : les informations à mettre en abscisse, et celles à mettre en ordonnée\n",
    "\n",
    "Comme pour le nuage de points, il existe de très nombreuses options de personnalisation. Vous pouvez jouer sur la couleur de la ligne (  color  ou  c  ), son style (  linestyle  ou  ls  ), son épaisseur (  linewidth  ou  lw), si on souhaite ajouter un marqueur en plus de la ligne (  marker  ), etc."
   ]
  },
  {
   "cell_type": "code",
   "execution_count": 19,
   "id": "af66eb15",
   "metadata": {},
   "outputs": [
    {
     "data": {
      "text/plain": [
       "[<matplotlib.lines.Line2D at 0xf85357fe80>]"
      ]
     },
     "execution_count": 19,
     "metadata": {},
     "output_type": "execute_result"
    },
    {
     "data": {
      "image/png": "[encoded data removed]",
      "text/plain": [
       "<Figure size 432x288 with 1 Axes>"
      ]
     },
     "metadata": {
      "needs_background": "light"
     },
     "output_type": "display_data"
    }
   ],
   "source": [
    "plt.plot(data['ville'], data['remboursement'], marker='o', linestyle='--', color='red')"
   ]
  },
  {
   "cell_type": "markdown",
   "id": "7826fd9d",
   "metadata": {},
   "source": [
    "## Créez plusieurs graphiques sur une même fenêtre\n"
   ]
  },
  {
   "cell_type": "code",
   "execution_count": 20,
   "id": "82480a1a",
   "metadata": {},
   "outputs": [
    {
     "data": {
      "text/html": [
       "<div>\n",
       "<style scoped>\n",
       "    .dataframe tbody tr th:only-of-type {\n",
       "        vertical-align: middle;\n",
       "    }\n",
       "\n",
       "    .dataframe tbody tr th {\n",
       "        vertical-align: top;\n",
       "    }\n",
       "\n",
       "    .dataframe thead th {\n",
       "        text-align: right;\n",
       "    }\n",
       "</style>\n",
       "<table border=\"1\" class=\"dataframe\">\n",
       "  <thead>\n",
       "    <tr style=\"text-align: right;\">\n",
       "      <th></th>\n",
       "      <th>identifiant</th>\n",
       "      <th>ville</th>\n",
       "      <th>CP</th>\n",
       "      <th>revenu</th>\n",
       "      <th>remboursement</th>\n",
       "      <th>duree</th>\n",
       "      <th>type</th>\n",
       "      <th>taux_interet</th>\n",
       "      <th>taux_endettement</th>\n",
       "      <th>cout_total</th>\n",
       "      <th>benefices</th>\n",
       "      <th>risque</th>\n",
       "    </tr>\n",
       "  </thead>\n",
       "  <tbody>\n",
       "    <tr>\n",
       "      <th>0</th>\n",
       "      <td>0</td>\n",
       "      <td>TOULOUSE</td>\n",
       "      <td>31100</td>\n",
       "      <td>3669.0</td>\n",
       "      <td>1130.05</td>\n",
       "      <td>240</td>\n",
       "      <td>immobilier</td>\n",
       "      <td>1.168</td>\n",
       "      <td>30.8</td>\n",
       "      <td>271212.0</td>\n",
       "      <td>131.99</td>\n",
       "      <td>Non</td>\n",
       "    </tr>\n",
       "    <tr>\n",
       "      <th>15</th>\n",
       "      <td>14</td>\n",
       "      <td>TOULOUSE</td>\n",
       "      <td>31400</td>\n",
       "      <td>2413.0</td>\n",
       "      <td>1334.39</td>\n",
       "      <td>300</td>\n",
       "      <td>immobilier</td>\n",
       "      <td>1.154</td>\n",
       "      <td>55.3</td>\n",
       "      <td>400317.0</td>\n",
       "      <td>192.49</td>\n",
       "      <td>Oui</td>\n",
       "    </tr>\n",
       "    <tr>\n",
       "      <th>31</th>\n",
       "      <td>30</td>\n",
       "      <td>TOULOUSE</td>\n",
       "      <td>31000</td>\n",
       "      <td>1785.0</td>\n",
       "      <td>514.08</td>\n",
       "      <td>240</td>\n",
       "      <td>immobilier</td>\n",
       "      <td>1.041</td>\n",
       "      <td>28.8</td>\n",
       "      <td>123379.2</td>\n",
       "      <td>53.52</td>\n",
       "      <td>Non</td>\n",
       "    </tr>\n",
       "    <tr>\n",
       "      <th>41</th>\n",
       "      <td>40</td>\n",
       "      <td>TOULOUSE</td>\n",
       "      <td>31400</td>\n",
       "      <td>3837.0</td>\n",
       "      <td>621.59</td>\n",
       "      <td>240</td>\n",
       "      <td>immobilier</td>\n",
       "      <td>1.205</td>\n",
       "      <td>16.2</td>\n",
       "      <td>149181.6</td>\n",
       "      <td>74.90</td>\n",
       "      <td>Non</td>\n",
       "    </tr>\n",
       "    <tr>\n",
       "      <th>50</th>\n",
       "      <td>49</td>\n",
       "      <td>TOULOUSE</td>\n",
       "      <td>31100</td>\n",
       "      <td>2931.0</td>\n",
       "      <td>1442.05</td>\n",
       "      <td>240</td>\n",
       "      <td>immobilier</td>\n",
       "      <td>1.200</td>\n",
       "      <td>49.2</td>\n",
       "      <td>346092.0</td>\n",
       "      <td>173.05</td>\n",
       "      <td>Oui</td>\n",
       "    </tr>\n",
       "  </tbody>\n",
       "</table>\n",
       "</div>"
      ],
      "text/plain": [
       "    identifiant     ville     CP  revenu  remboursement  duree        type  \\\n",
       "0             0  TOULOUSE  31100  3669.0        1130.05    240  immobilier   \n",
       "15           14  TOULOUSE  31400  2413.0        1334.39    300  immobilier   \n",
       "31           30  TOULOUSE  31000  1785.0         514.08    240  immobilier   \n",
       "41           40  TOULOUSE  31400  3837.0         621.59    240  immobilier   \n",
       "50           49  TOULOUSE  31100  2931.0        1442.05    240  immobilier   \n",
       "\n",
       "    taux_interet  taux_endettement  cout_total  benefices risque  \n",
       "0          1.168              30.8    271212.0     131.99    Non  \n",
       "15         1.154              55.3    400317.0     192.49    Oui  \n",
       "31         1.041              28.8    123379.2      53.52    Non  \n",
       "41         1.205              16.2    149181.6      74.90    Non  \n",
       "50         1.200              49.2    346092.0     173.05    Oui  "
      ]
     },
     "execution_count": 20,
     "metadata": {},
     "output_type": "execute_result"
    }
   ],
   "source": [
    "df1 = prets.loc[prets['ville'] == 'TOULOUSE', :]\n",
    "df1.head()"
   ]
  },
  {
   "cell_type": "code",
   "execution_count": 26,
   "id": "5da60ece",
   "metadata": {},
   "outputs": [
    {
     "data": {
      "text/plain": [
       "27"
      ]
     },
     "execution_count": 26,
     "metadata": {},
     "output_type": "execute_result"
    }
   ],
   "source": [
    "df1.shape[0]"
   ]
  },
  {
   "cell_type": "code",
   "execution_count": 24,
   "id": "d5bbfa3f",
   "metadata": {},
   "outputs": [
    {
     "data": {
      "text/html": [
       "<div>\n",
       "<style scoped>\n",
       "    .dataframe tbody tr th:only-of-type {\n",
       "        vertical-align: middle;\n",
       "    }\n",
       "\n",
       "    .dataframe tbody tr th {\n",
       "        vertical-align: top;\n",
       "    }\n",
       "\n",
       "    .dataframe thead th {\n",
       "        text-align: right;\n",
       "    }\n",
       "</style>\n",
       "<table border=\"1\" class=\"dataframe\">\n",
       "  <thead>\n",
       "    <tr style=\"text-align: right;\">\n",
       "      <th></th>\n",
       "      <th>identifiant</th>\n",
       "      <th>ville</th>\n",
       "      <th>CP</th>\n",
       "      <th>revenu</th>\n",
       "      <th>remboursement</th>\n",
       "      <th>duree</th>\n",
       "      <th>type</th>\n",
       "      <th>taux_interet</th>\n",
       "      <th>taux_endettement</th>\n",
       "      <th>cout_total</th>\n",
       "      <th>benefices</th>\n",
       "      <th>risque</th>\n",
       "    </tr>\n",
       "  </thead>\n",
       "  <tbody>\n",
       "    <tr>\n",
       "      <th>1</th>\n",
       "      <td>1</td>\n",
       "      <td>PARIS</td>\n",
       "      <td>75009</td>\n",
       "      <td>5310.0</td>\n",
       "      <td>240.00</td>\n",
       "      <td>64</td>\n",
       "      <td>automobile</td>\n",
       "      <td>3.701</td>\n",
       "      <td>4.52</td>\n",
       "      <td>15360.0</td>\n",
       "      <td>23.69</td>\n",
       "      <td>Non</td>\n",
       "    </tr>\n",
       "    <tr>\n",
       "      <th>2</th>\n",
       "      <td>1</td>\n",
       "      <td>PARIS</td>\n",
       "      <td>75009</td>\n",
       "      <td>5310.0</td>\n",
       "      <td>1247.85</td>\n",
       "      <td>300</td>\n",
       "      <td>immobilier</td>\n",
       "      <td>1.173</td>\n",
       "      <td>23.50</td>\n",
       "      <td>374355.0</td>\n",
       "      <td>182.97</td>\n",
       "      <td>Non</td>\n",
       "    </tr>\n",
       "    <tr>\n",
       "      <th>6</th>\n",
       "      <td>5</td>\n",
       "      <td>PARIS</td>\n",
       "      <td>75016</td>\n",
       "      <td>2476.0</td>\n",
       "      <td>836.89</td>\n",
       "      <td>240</td>\n",
       "      <td>immobilier</td>\n",
       "      <td>1.116</td>\n",
       "      <td>33.80</td>\n",
       "      <td>200853.6</td>\n",
       "      <td>93.40</td>\n",
       "      <td>Non</td>\n",
       "    </tr>\n",
       "    <tr>\n",
       "      <th>11</th>\n",
       "      <td>10</td>\n",
       "      <td>PARIS</td>\n",
       "      <td>75011</td>\n",
       "      <td>2293.0</td>\n",
       "      <td>378.34</td>\n",
       "      <td>240</td>\n",
       "      <td>immobilier</td>\n",
       "      <td>1.214</td>\n",
       "      <td>16.50</td>\n",
       "      <td>90801.6</td>\n",
       "      <td>45.93</td>\n",
       "      <td>Non</td>\n",
       "    </tr>\n",
       "    <tr>\n",
       "      <th>16</th>\n",
       "      <td>15</td>\n",
       "      <td>PARIS</td>\n",
       "      <td>75003</td>\n",
       "      <td>4109.0</td>\n",
       "      <td>1220.37</td>\n",
       "      <td>240</td>\n",
       "      <td>immobilier</td>\n",
       "      <td>1.272</td>\n",
       "      <td>29.70</td>\n",
       "      <td>292888.8</td>\n",
       "      <td>155.23</td>\n",
       "      <td>Non</td>\n",
       "    </tr>\n",
       "  </tbody>\n",
       "</table>\n",
       "</div>"
      ],
      "text/plain": [
       "    identifiant  ville     CP  revenu  remboursement  duree        type  \\\n",
       "1             1  PARIS  75009  5310.0         240.00     64  automobile   \n",
       "2             1  PARIS  75009  5310.0        1247.85    300  immobilier   \n",
       "6             5  PARIS  75016  2476.0         836.89    240  immobilier   \n",
       "11           10  PARIS  75011  2293.0         378.34    240  immobilier   \n",
       "16           15  PARIS  75003  4109.0        1220.37    240  immobilier   \n",
       "\n",
       "    taux_interet  taux_endettement  cout_total  benefices risque  \n",
       "1          3.701              4.52     15360.0      23.69    Non  \n",
       "2          1.173             23.50    374355.0     182.97    Non  \n",
       "6          1.116             33.80    200853.6      93.40    Non  \n",
       "11         1.214             16.50     90801.6      45.93    Non  \n",
       "16         1.272             29.70    292888.8     155.23    Non  "
      ]
     },
     "execution_count": 24,
     "metadata": {},
     "output_type": "execute_result"
    }
   ],
   "source": [
    "df2 = prets.loc[prets['ville'] == 'PARIS', :]\n",
    "df2.head()"
   ]
  },
  {
   "cell_type": "code",
   "execution_count": 25,
   "id": "c3cde958",
   "metadata": {},
   "outputs": [
    {
     "data": {
      "text/plain": [
       "77"
      ]
     },
     "execution_count": 25,
     "metadata": {},
     "output_type": "execute_result"
    }
   ],
   "source": [
    "df2.shape[0]"
   ]
  },
  {
   "cell_type": "code",
   "execution_count": 29,
   "id": "65929dd8",
   "metadata": {},
   "outputs": [
    {
     "data": {
      "image/png": "[encoded data removed]",
      "text/plain": [
       "<Figure size 432x288 with 1 Axes>"
      ]
     },
     "metadata": {
      "needs_background": "light"
     },
     "output_type": "display_data"
    }
   ],
   "source": [
    "plt.scatter(df1['revenu'], df1['taux_interet'])\n",
    "plt.scatter(df2['revenu'], df2['taux_interet'])\n",
    "plt.show()"
   ]
  },
  {
   "cell_type": "markdown",
   "id": "5b82870b",
   "metadata": {},
   "source": [
    "#### La legende\n",
    "On attribut un label a chaque graphique"
   ]
  },
  {
   "cell_type": "code",
   "execution_count": 33,
   "id": "4d95fe63",
   "metadata": {},
   "outputs": [
    {
     "data": {
      "image/png": "[encoded data removed]",
      "text/plain": [
       "<Figure size 432x288 with 1 Axes>"
      ]
     },
     "metadata": {
      "needs_background": "light"
     },
     "output_type": "display_data"
    }
   ],
   "source": [
    "plt.scatter(df1['revenu'], df1['taux_interet'], label='TOULOUSE')\n",
    "plt.scatter(df2['revenu'], df2['taux_interet'], label='PARIS')\n",
    "plt.legend()\n",
    "plt.show()"
   ]
  },
  {
   "cell_type": "markdown",
   "id": "bc819e39",
   "metadata": {},
   "source": [
    "Pour tracer pour toutes les ville, on va faire une boucle for"
   ]
  },
  {
   "cell_type": "code",
   "execution_count": 37,
   "id": "1d3e8c15",
   "metadata": {},
   "outputs": [
    {
     "data": {
      "image/png": "[encoded data removed]",
      "text/plain": [
       "<Figure size 432x288 with 1 Axes>"
      ]
     },
     "metadata": {
      "needs_background": "light"
     },
     "output_type": "display_data"
    }
   ],
   "source": [
    "for ville in prets['ville'].unique():\n",
    "    df = prets.loc[prets['ville'] == ville, :]\n",
    "    plt.scatter(df['revenu'], df['taux_interet'], label=ville)\n",
    "plt.legend()\n",
    "plt.show()"
   ]
  },
  {
   "cell_type": "code",
   "execution_count": 17,
   "id": "6546b8de",
   "metadata": {},
   "outputs": [
    {
     "data": {
      "text/html": [
       "<div>\n",
       "<style scoped>\n",
       "    .dataframe tbody tr th:only-of-type {\n",
       "        vertical-align: middle;\n",
       "    }\n",
       "\n",
       "    .dataframe tbody tr th {\n",
       "        vertical-align: top;\n",
       "    }\n",
       "\n",
       "    .dataframe thead th {\n",
       "        text-align: right;\n",
       "    }\n",
       "</style>\n",
       "<table border=\"1\" class=\"dataframe\">\n",
       "  <thead>\n",
       "    <tr style=\"text-align: right;\">\n",
       "      <th></th>\n",
       "      <th>identifiant</th>\n",
       "      <th>ville</th>\n",
       "      <th>CP</th>\n",
       "      <th>revenu</th>\n",
       "      <th>remboursement</th>\n",
       "      <th>duree</th>\n",
       "      <th>type</th>\n",
       "      <th>taux_interet</th>\n",
       "      <th>taux_endettement</th>\n",
       "      <th>cout_total</th>\n",
       "      <th>benefices</th>\n",
       "      <th>risque</th>\n",
       "    </tr>\n",
       "  </thead>\n",
       "  <tbody>\n",
       "    <tr>\n",
       "      <th>0</th>\n",
       "      <td>0</td>\n",
       "      <td>TOULOUSE</td>\n",
       "      <td>31100</td>\n",
       "      <td>3669.0</td>\n",
       "      <td>1130.05</td>\n",
       "      <td>240</td>\n",
       "      <td>immobilier</td>\n",
       "      <td>1.168</td>\n",
       "      <td>30.80</td>\n",
       "      <td>271212.0</td>\n",
       "      <td>131.99</td>\n",
       "      <td>Non</td>\n",
       "    </tr>\n",
       "    <tr>\n",
       "      <th>1</th>\n",
       "      <td>1</td>\n",
       "      <td>PARIS</td>\n",
       "      <td>75009</td>\n",
       "      <td>5310.0</td>\n",
       "      <td>240.00</td>\n",
       "      <td>64</td>\n",
       "      <td>automobile</td>\n",
       "      <td>3.701</td>\n",
       "      <td>4.52</td>\n",
       "      <td>15360.0</td>\n",
       "      <td>23.69</td>\n",
       "      <td>Non</td>\n",
       "    </tr>\n",
       "    <tr>\n",
       "      <th>2</th>\n",
       "      <td>1</td>\n",
       "      <td>PARIS</td>\n",
       "      <td>75009</td>\n",
       "      <td>5310.0</td>\n",
       "      <td>1247.85</td>\n",
       "      <td>300</td>\n",
       "      <td>immobilier</td>\n",
       "      <td>1.173</td>\n",
       "      <td>23.50</td>\n",
       "      <td>374355.0</td>\n",
       "      <td>182.97</td>\n",
       "      <td>Non</td>\n",
       "    </tr>\n",
       "    <tr>\n",
       "      <th>3</th>\n",
       "      <td>2</td>\n",
       "      <td>MARSEILLE</td>\n",
       "      <td>13010</td>\n",
       "      <td>1873.0</td>\n",
       "      <td>552.54</td>\n",
       "      <td>240</td>\n",
       "      <td>immobilier</td>\n",
       "      <td>0.972</td>\n",
       "      <td>29.50</td>\n",
       "      <td>132609.6</td>\n",
       "      <td>53.71</td>\n",
       "      <td>Non</td>\n",
       "    </tr>\n",
       "    <tr>\n",
       "      <th>4</th>\n",
       "      <td>3</td>\n",
       "      <td>MARSEILLE</td>\n",
       "      <td>13010</td>\n",
       "      <td>1684.0</td>\n",
       "      <td>586.03</td>\n",
       "      <td>180</td>\n",
       "      <td>immobilier</td>\n",
       "      <td>1.014</td>\n",
       "      <td>34.80</td>\n",
       "      <td>105485.4</td>\n",
       "      <td>44.57</td>\n",
       "      <td>Non</td>\n",
       "    </tr>\n",
       "  </tbody>\n",
       "</table>\n",
       "</div>"
      ],
      "text/plain": [
       "   identifiant      ville     CP  revenu  remboursement  duree        type  \\\n",
       "0            0   TOULOUSE  31100  3669.0        1130.05    240  immobilier   \n",
       "1            1      PARIS  75009  5310.0         240.00     64  automobile   \n",
       "2            1      PARIS  75009  5310.0        1247.85    300  immobilier   \n",
       "3            2  MARSEILLE  13010  1873.0         552.54    240  immobilier   \n",
       "4            3  MARSEILLE  13010  1684.0         586.03    180  immobilier   \n",
       "\n",
       "   taux_interet  taux_endettement  cout_total  benefices risque  \n",
       "0         1.168             30.80    271212.0     131.99    Non  \n",
       "1         3.701              4.52     15360.0      23.69    Non  \n",
       "2         1.173             23.50    374355.0     182.97    Non  \n",
       "3         0.972             29.50    132609.6      53.71    Non  \n",
       "4         1.014             34.80    105485.4      44.57    Non  "
      ]
     },
     "execution_count": 17,
     "metadata": {},
     "output_type": "execute_result"
    }
   ],
   "source": [
    "prets_exo = pd.read_csv('prets_enrichi.csv')\n",
    "prets_exo.head()"
   ]
  },
  {
   "cell_type": "code",
   "execution_count": 39,
   "id": "bdda5122",
   "metadata": {},
   "outputs": [
    {
     "data": {
      "text/html": [
       "<div>\n",
       "<style scoped>\n",
       "    .dataframe tbody tr th:only-of-type {\n",
       "        vertical-align: middle;\n",
       "    }\n",
       "\n",
       "    .dataframe tbody tr th {\n",
       "        vertical-align: top;\n",
       "    }\n",
       "\n",
       "    .dataframe thead th {\n",
       "        text-align: right;\n",
       "    }\n",
       "</style>\n",
       "<table border=\"1\" class=\"dataframe\">\n",
       "  <thead>\n",
       "    <tr style=\"text-align: right;\">\n",
       "      <th></th>\n",
       "      <th>type</th>\n",
       "      <th>remboursement</th>\n",
       "    </tr>\n",
       "  </thead>\n",
       "  <tbody>\n",
       "    <tr>\n",
       "      <th>0</th>\n",
       "      <td>automobile</td>\n",
       "      <td>4386.60</td>\n",
       "    </tr>\n",
       "    <tr>\n",
       "      <th>1</th>\n",
       "      <td>immobilier</td>\n",
       "      <td>214787.41</td>\n",
       "    </tr>\n",
       "  </tbody>\n",
       "</table>\n",
       "</div>"
      ],
      "text/plain": [
       "         type  remboursement\n",
       "0  automobile        4386.60\n",
       "1  immobilier      214787.41"
      ]
     },
     "execution_count": 39,
     "metadata": {},
     "output_type": "execute_result"
    }
   ],
   "source": [
    "dataf = prets_exo.groupby('type')['remboursement'].sum()\n",
    "dataf = dataf.reset_index()\n",
    "dataf"
   ]
  },
  {
   "cell_type": "code",
   "execution_count": 51,
   "id": "8cedee90",
   "metadata": {},
   "outputs": [
    {
     "data": {
      "text/plain": [
       "([<matplotlib.patches.Wedge at 0xf858c5c460>,\n",
       "  <matplotlib.patches.Wedge at 0xf858c5cb80>],\n",
       " [Text(1.097826311179782, 0.06911866955745498, 'automobile'),\n",
       "  Text(-1.0978263091574825, -0.06911870167805412, 'immobilier')],\n",
       " [Text(0.5988143515526083, 0.037701092485884526, '2.00%'),\n",
       "  Text(-0.5988143504495359, -0.03770111000621133, '98.00%')])"
      ]
     },
     "execution_count": 51,
     "metadata": {},
     "output_type": "execute_result"
    },
    {
     "data": {
      "image/png": "[encoded data removed]",
      "text/plain": [
       "<Figure size 432x288 with 1 Axes>"
      ]
     },
     "metadata": {},
     "output_type": "display_data"
    }
   ],
   "source": [
    "plt.pie(x=dataf['remboursement'], labels=dataf['type'], autopct = '%.2f%%')"
   ]
  },
  {
   "cell_type": "code",
   "execution_count": 41,
   "id": "02313a5b",
   "metadata": {},
   "outputs": [
    {
     "data": {
      "text/html": [
       "<div>\n",
       "<style scoped>\n",
       "    .dataframe tbody tr th:only-of-type {\n",
       "        vertical-align: middle;\n",
       "    }\n",
       "\n",
       "    .dataframe tbody tr th {\n",
       "        vertical-align: top;\n",
       "    }\n",
       "\n",
       "    .dataframe thead th {\n",
       "        text-align: right;\n",
       "    }\n",
       "</style>\n",
       "<table border=\"1\" class=\"dataframe\">\n",
       "  <thead>\n",
       "    <tr style=\"text-align: right;\">\n",
       "      <th></th>\n",
       "      <th>identifiant</th>\n",
       "      <th>ville</th>\n",
       "      <th>CP</th>\n",
       "      <th>revenu</th>\n",
       "      <th>remboursement</th>\n",
       "      <th>duree</th>\n",
       "      <th>type</th>\n",
       "      <th>taux_interet</th>\n",
       "      <th>taux_endettement</th>\n",
       "      <th>cout_total</th>\n",
       "      <th>benefices</th>\n",
       "      <th>risque</th>\n",
       "    </tr>\n",
       "  </thead>\n",
       "  <tbody>\n",
       "    <tr>\n",
       "      <th>0</th>\n",
       "      <td>0</td>\n",
       "      <td>TOULOUSE</td>\n",
       "      <td>31100</td>\n",
       "      <td>3669.0</td>\n",
       "      <td>1130.05</td>\n",
       "      <td>240</td>\n",
       "      <td>immobilier</td>\n",
       "      <td>1.168</td>\n",
       "      <td>30.8</td>\n",
       "      <td>271212.0</td>\n",
       "      <td>131.99</td>\n",
       "      <td>Non</td>\n",
       "    </tr>\n",
       "    <tr>\n",
       "      <th>2</th>\n",
       "      <td>1</td>\n",
       "      <td>PARIS</td>\n",
       "      <td>75009</td>\n",
       "      <td>5310.0</td>\n",
       "      <td>1247.85</td>\n",
       "      <td>300</td>\n",
       "      <td>immobilier</td>\n",
       "      <td>1.173</td>\n",
       "      <td>23.5</td>\n",
       "      <td>374355.0</td>\n",
       "      <td>182.97</td>\n",
       "      <td>Non</td>\n",
       "    </tr>\n",
       "    <tr>\n",
       "      <th>3</th>\n",
       "      <td>2</td>\n",
       "      <td>MARSEILLE</td>\n",
       "      <td>13010</td>\n",
       "      <td>1873.0</td>\n",
       "      <td>552.54</td>\n",
       "      <td>240</td>\n",
       "      <td>immobilier</td>\n",
       "      <td>0.972</td>\n",
       "      <td>29.5</td>\n",
       "      <td>132609.6</td>\n",
       "      <td>53.71</td>\n",
       "      <td>Non</td>\n",
       "    </tr>\n",
       "    <tr>\n",
       "      <th>4</th>\n",
       "      <td>3</td>\n",
       "      <td>MARSEILLE</td>\n",
       "      <td>13010</td>\n",
       "      <td>1684.0</td>\n",
       "      <td>586.03</td>\n",
       "      <td>180</td>\n",
       "      <td>immobilier</td>\n",
       "      <td>1.014</td>\n",
       "      <td>34.8</td>\n",
       "      <td>105485.4</td>\n",
       "      <td>44.57</td>\n",
       "      <td>Non</td>\n",
       "    </tr>\n",
       "    <tr>\n",
       "      <th>5</th>\n",
       "      <td>4</td>\n",
       "      <td>MARSEILLE</td>\n",
       "      <td>13012</td>\n",
       "      <td>1476.0</td>\n",
       "      <td>423.61</td>\n",
       "      <td>240</td>\n",
       "      <td>immobilier</td>\n",
       "      <td>1.209</td>\n",
       "      <td>28.7</td>\n",
       "      <td>101666.4</td>\n",
       "      <td>51.21</td>\n",
       "      <td>Non</td>\n",
       "    </tr>\n",
       "    <tr>\n",
       "      <th>...</th>\n",
       "      <td>...</td>\n",
       "      <td>...</td>\n",
       "      <td>...</td>\n",
       "      <td>...</td>\n",
       "      <td>...</td>\n",
       "      <td>...</td>\n",
       "      <td>...</td>\n",
       "      <td>...</td>\n",
       "      <td>...</td>\n",
       "      <td>...</td>\n",
       "      <td>...</td>\n",
       "      <td>...</td>\n",
       "    </tr>\n",
       "    <tr>\n",
       "      <th>238</th>\n",
       "      <td>223</td>\n",
       "      <td>PARIS</td>\n",
       "      <td>75009</td>\n",
       "      <td>2127.0</td>\n",
       "      <td>672.13</td>\n",
       "      <td>240</td>\n",
       "      <td>immobilier</td>\n",
       "      <td>1.249</td>\n",
       "      <td>31.6</td>\n",
       "      <td>161311.2</td>\n",
       "      <td>83.95</td>\n",
       "      <td>Non</td>\n",
       "    </tr>\n",
       "    <tr>\n",
       "      <th>239</th>\n",
       "      <td>224</td>\n",
       "      <td>PARIS</td>\n",
       "      <td>75008</td>\n",
       "      <td>5118.0</td>\n",
       "      <td>1248.79</td>\n",
       "      <td>300</td>\n",
       "      <td>immobilier</td>\n",
       "      <td>1.206</td>\n",
       "      <td>24.4</td>\n",
       "      <td>374637.0</td>\n",
       "      <td>188.26</td>\n",
       "      <td>Non</td>\n",
       "    </tr>\n",
       "    <tr>\n",
       "      <th>241</th>\n",
       "      <td>225</td>\n",
       "      <td>BORDEAUX</td>\n",
       "      <td>33100</td>\n",
       "      <td>2356.0</td>\n",
       "      <td>876.43</td>\n",
       "      <td>180</td>\n",
       "      <td>immobilier</td>\n",
       "      <td>1.172</td>\n",
       "      <td>37.2</td>\n",
       "      <td>157757.4</td>\n",
       "      <td>77.04</td>\n",
       "      <td>Oui</td>\n",
       "    </tr>\n",
       "    <tr>\n",
       "      <th>242</th>\n",
       "      <td>226</td>\n",
       "      <td>PARIS</td>\n",
       "      <td>75002</td>\n",
       "      <td>5098.0</td>\n",
       "      <td>2910.96</td>\n",
       "      <td>240</td>\n",
       "      <td>immobilier</td>\n",
       "      <td>1.140</td>\n",
       "      <td>57.1</td>\n",
       "      <td>698630.4</td>\n",
       "      <td>331.85</td>\n",
       "      <td>Oui</td>\n",
       "    </tr>\n",
       "    <tr>\n",
       "      <th>243</th>\n",
       "      <td>227</td>\n",
       "      <td>PARIS</td>\n",
       "      <td>75015</td>\n",
       "      <td>2348.0</td>\n",
       "      <td>434.38</td>\n",
       "      <td>300</td>\n",
       "      <td>immobilier</td>\n",
       "      <td>1.157</td>\n",
       "      <td>18.5</td>\n",
       "      <td>130314.0</td>\n",
       "      <td>62.82</td>\n",
       "      <td>Non</td>\n",
       "    </tr>\n",
       "  </tbody>\n",
       "</table>\n",
       "<p>228 rows × 12 columns</p>\n",
       "</div>"
      ],
      "text/plain": [
       "     identifiant      ville     CP  revenu  remboursement  duree        type  \\\n",
       "0              0   TOULOUSE  31100  3669.0        1130.05    240  immobilier   \n",
       "2              1      PARIS  75009  5310.0        1247.85    300  immobilier   \n",
       "3              2  MARSEILLE  13010  1873.0         552.54    240  immobilier   \n",
       "4              3  MARSEILLE  13010  1684.0         586.03    180  immobilier   \n",
       "5              4  MARSEILLE  13012  1476.0         423.61    240  immobilier   \n",
       "..           ...        ...    ...     ...            ...    ...         ...   \n",
       "238          223      PARIS  75009  2127.0         672.13    240  immobilier   \n",
       "239          224      PARIS  75008  5118.0        1248.79    300  immobilier   \n",
       "241          225   BORDEAUX  33100  2356.0         876.43    180  immobilier   \n",
       "242          226      PARIS  75002  5098.0        2910.96    240  immobilier   \n",
       "243          227      PARIS  75015  2348.0         434.38    300  immobilier   \n",
       "\n",
       "     taux_interet  taux_endettement  cout_total  benefices risque  \n",
       "0           1.168              30.8    271212.0     131.99    Non  \n",
       "2           1.173              23.5    374355.0     182.97    Non  \n",
       "3           0.972              29.5    132609.6      53.71    Non  \n",
       "4           1.014              34.8    105485.4      44.57    Non  \n",
       "5           1.209              28.7    101666.4      51.21    Non  \n",
       "..            ...               ...         ...        ...    ...  \n",
       "238         1.249              31.6    161311.2      83.95    Non  \n",
       "239         1.206              24.4    374637.0     188.26    Non  \n",
       "241         1.172              37.2    157757.4      77.04    Oui  \n",
       "242         1.140              57.1    698630.4     331.85    Oui  \n",
       "243         1.157              18.5    130314.0      62.82    Non  \n",
       "\n",
       "[228 rows x 12 columns]"
      ]
     },
     "execution_count": 41,
     "metadata": {},
     "output_type": "execute_result"
    }
   ],
   "source": [
    "df_immo = prets_exo.loc[prets_exo['type'] == 'immobilier', :]\n",
    "df_immo"
   ]
  },
  {
   "cell_type": "code",
   "execution_count": 43,
   "id": "fb5e4f05",
   "metadata": {},
   "outputs": [
    {
     "data": {
      "text/plain": [
       "<matplotlib.collections.PathCollection at 0xf858126760>"
      ]
     },
     "execution_count": 43,
     "metadata": {},
     "output_type": "execute_result"
    },
    {
     "data": {
      "image/png": "[encoded data removed]",
      "text/plain": [
       "<Figure size 432x288 with 1 Axes>"
      ]
     },
     "metadata": {
      "needs_background": "light"
     },
     "output_type": "display_data"
    }
   ],
   "source": [
    "plt.scatter(df_immo['benefices'], df_immo['revenu'])"
   ]
  },
  {
   "cell_type": "code",
   "execution_count": 44,
   "id": "3508e6f6",
   "metadata": {},
   "outputs": [
    {
     "data": {
      "text/plain": [
       "<BarContainer object of 228 artists>"
      ]
     },
     "execution_count": 44,
     "metadata": {},
     "output_type": "execute_result"
    },
    {
     "data": {
      "image/png": "[encoded data removed]",
      "text/plain": [
       "<Figure size 432x288 with 1 Axes>"
      ]
     },
     "metadata": {
      "needs_background": "light"
     },
     "output_type": "display_data"
    }
   ],
   "source": [
    "plt.bar(height=df_immo['revenu'], x=df_immo['benefices'])"
   ]
  },
  {
   "cell_type": "code",
   "execution_count": 50,
   "id": "4e4659f0",
   "metadata": {},
   "outputs": [
    {
     "data": {
      "text/html": [
       "<div>\n",
       "<style scoped>\n",
       "    .dataframe tbody tr th:only-of-type {\n",
       "        vertical-align: middle;\n",
       "    }\n",
       "\n",
       "    .dataframe tbody tr th {\n",
       "        vertical-align: top;\n",
       "    }\n",
       "\n",
       "    .dataframe thead th {\n",
       "        text-align: right;\n",
       "    }\n",
       "</style>\n",
       "<table border=\"1\" class=\"dataframe\">\n",
       "  <thead>\n",
       "    <tr style=\"text-align: right;\">\n",
       "      <th></th>\n",
       "      <th>ville</th>\n",
       "      <th>benefices</th>\n",
       "    </tr>\n",
       "  </thead>\n",
       "  <tbody>\n",
       "    <tr>\n",
       "      <th>0</th>\n",
       "      <td>BORDEAUX</td>\n",
       "      <td>1681.32</td>\n",
       "    </tr>\n",
       "    <tr>\n",
       "      <th>1</th>\n",
       "      <td>LYON</td>\n",
       "      <td>3014.80</td>\n",
       "    </tr>\n",
       "    <tr>\n",
       "      <th>2</th>\n",
       "      <td>MARSEILLE</td>\n",
       "      <td>4395.91</td>\n",
       "    </tr>\n",
       "    <tr>\n",
       "      <th>3</th>\n",
       "      <td>NICE</td>\n",
       "      <td>2682.75</td>\n",
       "    </tr>\n",
       "    <tr>\n",
       "      <th>4</th>\n",
       "      <td>PARIS</td>\n",
       "      <td>10016.35</td>\n",
       "    </tr>\n",
       "    <tr>\n",
       "      <th>5</th>\n",
       "      <td>TOULOUSE</td>\n",
       "      <td>2138.07</td>\n",
       "    </tr>\n",
       "  </tbody>\n",
       "</table>\n",
       "</div>"
      ],
      "text/plain": [
       "       ville  benefices\n",
       "0   BORDEAUX    1681.32\n",
       "1       LYON    3014.80\n",
       "2  MARSEILLE    4395.91\n",
       "3       NICE    2682.75\n",
       "4      PARIS   10016.35\n",
       "5   TOULOUSE    2138.07"
      ]
     },
     "execution_count": 50,
     "metadata": {},
     "output_type": "execute_result"
    }
   ],
   "source": [
    "df_ville = prets_exo.groupby('ville')['benefices'].sum()\n",
    "df_ville = df_ville.reset_index()\n",
    "df_ville"
   ]
  },
  {
   "cell_type": "code",
   "execution_count": 52,
   "id": "463ea899",
   "metadata": {},
   "outputs": [
    {
     "data": {
      "text/plain": [
       "<BarContainer object of 6 artists>"
      ]
     },
     "execution_count": 52,
     "metadata": {},
     "output_type": "execute_result"
    },
    {
     "data": {
      "image/png": "[encoded data removed]",
      "text/plain": [
       "<Figure size 432x288 with 1 Axes>"
      ]
     },
     "metadata": {
      "needs_background": "light"
     },
     "output_type": "display_data"
    }
   ],
   "source": [
    "plt.bar(height= df_ville['benefices'], x=df_ville['ville'])"
   ]
  },
  {
   "cell_type": "raw",
   "id": "420b0cf6",
   "metadata": {},
   "source": [
    "CORRECTION\n",
    "la distribution d'une variable numérique"
   ]
  },
  {
   "cell_type": "code",
   "execution_count": 54,
   "id": "d0330947",
   "metadata": {},
   "outputs": [
    {
     "data": {
      "text/plain": [
       "(array([63., 77., 57., 20., 12.,  7.,  2.,  4.,  1.,  1.]),\n",
       " array([  8.49 ,  51.404,  94.318, 137.232, 180.146, 223.06 , 265.974,\n",
       "        308.888, 351.802, 394.716, 437.63 ]),\n",
       " <BarContainer object of 10 artists>)"
      ]
     },
     "execution_count": 54,
     "metadata": {},
     "output_type": "execute_result"
    },
    {
     "data": {
      "image/png": "[encoded data removed]",
      "text/plain": [
       "<Figure size 432x288 with 1 Axes>"
      ]
     },
     "metadata": {
      "needs_background": "light"
     },
     "output_type": "display_data"
    }
   ],
   "source": [
    "plt.hist(prets_exo['benefices'])"
   ]
  },
  {
   "cell_type": "code",
   "execution_count": 66,
   "id": "054d8e44",
   "metadata": {},
   "outputs": [
    {
     "data": {
      "text/plain": [
       "Text(0, 0.5, \"Chiffre d'affaire (£)\")"
      ]
     },
     "execution_count": 66,
     "metadata": {},
     "output_type": "execute_result"
    },
    {
     "data": {
      "image/png": "[encoded data removed]",
      "text/plain": [
       "<Figure size 432x288 with 1 Axes>"
      ]
     },
     "metadata": {
      "needs_background": "light"
     },
     "output_type": "display_data"
    }
   ],
   "source": [
    "plt.bar(height= df_ville['benefices'], x=df_ville['ville'])\n",
    "plt.title(\"Chiffre d'affaire réalisé par agence\")\n",
    "plt.xlabel('Agence')\n",
    "plt.ylabel(\"Chiffre d'affaire (£)\")"
   ]
  },
  {
   "cell_type": "code",
   "execution_count": 56,
   "id": "283a8e1e",
   "metadata": {},
   "outputs": [
    {
     "data": {
      "text/plain": [
       "Text(0, 0.5, \"Chiffre d'affaire (£)\")"
      ]
     },
     "execution_count": 56,
     "metadata": {},
     "output_type": "execute_result"
    },
    {
     "data": {
      "image/png": "[encoded data removed]",
      "text/plain": [
       "<Figure size 432x288 with 1 Axes>"
      ]
     },
     "metadata": {
      "needs_background": "light"
     },
     "output_type": "display_data"
    }
   ],
   "source": [
    "plt.bar(height= df_ville['benefices'], x=df_ville['ville'])\n",
    "plt.title(\"Chiffre d'affaire réalisé par agence\", fontname='Arial', fontsize=18)\n",
    "plt.xlabel('Agence', color='red', fontweight='bold' )\n",
    "plt.ylabel(\"Chiffre d'affaire (£)\")"
   ]
  },
  {
   "cell_type": "markdown",
   "id": "6b2c8f40",
   "metadata": {},
   "source": [
    "### Modifiez les éléments intérieurs\n",
    "il y a de nombreux aspects internes au graphique sur lesquels on peut jouer. Vous en avez déjà entr'aperçu un, avec l’affichage textuel des valeurs sur les pie plots ou les barplots. Il est également possible de jouer – entre autres – sur les graduations (ou ticks, en anglais), le quadrillage, ou encore les couleurs de fond."
   ]
  },
  {
   "cell_type": "code",
   "execution_count": 68,
   "id": "b16ef4bb",
   "metadata": {},
   "outputs": [
    {
     "data": {
      "image/png": "[encoded data removed]",
      "text/plain": [
       "<Figure size 720x432 with 1 Axes>"
      ]
     },
     "metadata": {
      "needs_background": "light"
     },
     "output_type": "display_data"
    }
   ],
   "source": [
    "plt.figure(figsize=(10, 6))\n",
    "plt.bar(height= df_ville['benefices'], x=df_ville['ville'])\n",
    "plt.title(\"Chiffre d'affaire réalisé par agence\", fontname='Arial', fontsize=18)\n",
    "plt.xlabel('Agence', color='red', fontweight='bold' )\n",
    "plt.ylabel(\"Chiffre d'affaire (£)\")\n",
    "plt.grid(axis='y')\n",
    "plt.ylim(0, 12000)\n",
    "plt.yticks([0, 3000, 6000, 9000, 12000])\n",
    "\n",
    "ca = df_ville['benefices'].tolist()\n",
    "for i in range(6):\n",
    "    plt.text(i, ca[i], round(ca[i], 1))\n",
    "\n",
    "plt.show()"
   ]
  },
  {
   "cell_type": "markdown",
   "id": "4e8e2156",
   "metadata": {},
   "source": [
    "on va centrer les chiffres sur les barres et les remonter légèrement des barres"
   ]
  },
  {
   "cell_type": "code",
   "execution_count": 71,
   "id": "37adde71",
   "metadata": {},
   "outputs": [
    {
     "data": {
      "image/png": "[encoded data removed]",
      "text/plain": [
       "<Figure size 720x432 with 1 Axes>"
      ]
     },
     "metadata": {
      "needs_background": "light"
     },
     "output_type": "display_data"
    }
   ],
   "source": [
    "plt.figure(figsize=(10, 6))\n",
    "plt.bar(height= df_ville['benefices'], x=df_ville['ville'])\n",
    "plt.title(\"Chiffre d'affaire réalisé par agence\", fontname='Arial', fontsize=18)\n",
    "plt.xlabel('Agence', color='red', fontweight='bold' )\n",
    "plt.ylabel(\"Chiffre d'affaire (£)\")\n",
    "plt.grid(axis='y')\n",
    "plt.ylim(0, 12000)\n",
    "plt.yticks([0, 3000, 6000, 9000, 12000])\n",
    "\n",
    "ca = df_ville['benefices'].tolist()\n",
    "for i in range(6):\n",
    "    plt.text(i-0.2, ca[i]+200, round(ca[i], 1))\n",
    "\n",
    "plt.show()"
   ]
  },
  {
   "cell_type": "markdown",
   "id": "2f2cd606",
   "metadata": {},
   "source": [
    "EXERCICES"
   ]
  },
  {
   "cell_type": "code",
   "execution_count": 72,
   "id": "e600716f",
   "metadata": {},
   "outputs": [
    {
     "data": {
      "text/html": [
       "<div>\n",
       "<style scoped>\n",
       "    .dataframe tbody tr th:only-of-type {\n",
       "        vertical-align: middle;\n",
       "    }\n",
       "\n",
       "    .dataframe tbody tr th {\n",
       "        vertical-align: top;\n",
       "    }\n",
       "\n",
       "    .dataframe thead th {\n",
       "        text-align: right;\n",
       "    }\n",
       "</style>\n",
       "<table border=\"1\" class=\"dataframe\">\n",
       "  <thead>\n",
       "    <tr style=\"text-align: right;\">\n",
       "      <th></th>\n",
       "      <th>date</th>\n",
       "      <th>immobilier</th>\n",
       "      <th>automobile</th>\n",
       "      <th>consommation</th>\n",
       "    </tr>\n",
       "  </thead>\n",
       "  <tbody>\n",
       "    <tr>\n",
       "      <th>0</th>\n",
       "      <td>2021-01-01</td>\n",
       "      <td>10439</td>\n",
       "      <td>5096</td>\n",
       "      <td>3808</td>\n",
       "    </tr>\n",
       "    <tr>\n",
       "      <th>1</th>\n",
       "      <td>2021-02-01</td>\n",
       "      <td>11266</td>\n",
       "      <td>5146</td>\n",
       "      <td>5838</td>\n",
       "    </tr>\n",
       "    <tr>\n",
       "      <th>2</th>\n",
       "      <td>2021-03-01</td>\n",
       "      <td>11315</td>\n",
       "      <td>5276</td>\n",
       "      <td>5601</td>\n",
       "    </tr>\n",
       "    <tr>\n",
       "      <th>3</th>\n",
       "      <td>2021-04-01</td>\n",
       "      <td>11456</td>\n",
       "      <td>5067</td>\n",
       "      <td>3639</td>\n",
       "    </tr>\n",
       "    <tr>\n",
       "      <th>4</th>\n",
       "      <td>2021-05-01</td>\n",
       "      <td>10816</td>\n",
       "      <td>4937</td>\n",
       "      <td>5273</td>\n",
       "    </tr>\n",
       "  </tbody>\n",
       "</table>\n",
       "</div>"
      ],
      "text/plain": [
       "         date  immobilier  automobile  consommation\n",
       "0  2021-01-01       10439        5096          3808\n",
       "1  2021-02-01       11266        5146          5838\n",
       "2  2021-03-01       11315        5276          5601\n",
       "3  2021-04-01       11456        5067          3639\n",
       "4  2021-05-01       10816        4937          5273"
      ]
     },
     "execution_count": 72,
     "metadata": {},
     "output_type": "execute_result"
    }
   ],
   "source": [
    "CA = pd.read_csv('CA.csv')\n",
    "CA.head()"
   ]
  },
  {
   "cell_type": "code",
   "execution_count": 74,
   "id": "0897e338",
   "metadata": {},
   "outputs": [
    {
     "data": {
      "text/html": [
       "<div>\n",
       "<style scoped>\n",
       "    .dataframe tbody tr th:only-of-type {\n",
       "        vertical-align: middle;\n",
       "    }\n",
       "\n",
       "    .dataframe tbody tr th {\n",
       "        vertical-align: top;\n",
       "    }\n",
       "\n",
       "    .dataframe thead th {\n",
       "        text-align: right;\n",
       "    }\n",
       "</style>\n",
       "<table border=\"1\" class=\"dataframe\">\n",
       "  <thead>\n",
       "    <tr style=\"text-align: right;\">\n",
       "      <th></th>\n",
       "      <th>date</th>\n",
       "      <th>immobilier</th>\n",
       "      <th>automobile</th>\n",
       "      <th>consommation</th>\n",
       "    </tr>\n",
       "  </thead>\n",
       "  <tbody>\n",
       "    <tr>\n",
       "      <th>0</th>\n",
       "      <td>2021-01-01</td>\n",
       "      <td>10439</td>\n",
       "      <td>5096</td>\n",
       "      <td>3808</td>\n",
       "    </tr>\n",
       "    <tr>\n",
       "      <th>1</th>\n",
       "      <td>2021-02-01</td>\n",
       "      <td>11266</td>\n",
       "      <td>5146</td>\n",
       "      <td>5838</td>\n",
       "    </tr>\n",
       "    <tr>\n",
       "      <th>2</th>\n",
       "      <td>2021-03-01</td>\n",
       "      <td>11315</td>\n",
       "      <td>5276</td>\n",
       "      <td>5601</td>\n",
       "    </tr>\n",
       "    <tr>\n",
       "      <th>3</th>\n",
       "      <td>2021-04-01</td>\n",
       "      <td>11456</td>\n",
       "      <td>5067</td>\n",
       "      <td>3639</td>\n",
       "    </tr>\n",
       "    <tr>\n",
       "      <th>4</th>\n",
       "      <td>2021-05-01</td>\n",
       "      <td>10816</td>\n",
       "      <td>4937</td>\n",
       "      <td>5273</td>\n",
       "    </tr>\n",
       "  </tbody>\n",
       "</table>\n",
       "</div>"
      ],
      "text/plain": [
       "        date  immobilier  automobile  consommation\n",
       "0 2021-01-01       10439        5096          3808\n",
       "1 2021-02-01       11266        5146          5838\n",
       "2 2021-03-01       11315        5276          5601\n",
       "3 2021-04-01       11456        5067          3639\n",
       "4 2021-05-01       10816        4937          5273"
      ]
     },
     "execution_count": 74,
     "metadata": {},
     "output_type": "execute_result"
    }
   ],
   "source": [
    "CA['date'] = pd.to_datetime(CA['date'])\n",
    "CA.head()"
   ]
  },
  {
   "cell_type": "code",
   "execution_count": 77,
   "id": "1a4ccdd6",
   "metadata": {},
   "outputs": [
    {
     "data": {
      "text/plain": [
       "[<matplotlib.lines.Line2D at 0xf858ec6be0>]"
      ]
     },
     "execution_count": 77,
     "metadata": {},
     "output_type": "execute_result"
    },
    {
     "data": {
      "image/png": "[encoded data removed]",
      "text/plain": [
       "<Figure size 432x288 with 1 Axes>"
      ]
     },
     "metadata": {
      "needs_background": "light"
     },
     "output_type": "display_data"
    }
   ],
   "source": [
    "plt.plot(CA['date'], CA['immobilier'], color='blue' )\n"
   ]
  },
  {
   "cell_type": "code",
   "execution_count": 79,
   "id": "d5a492ee",
   "metadata": {},
   "outputs": [
    {
     "data": {
      "image/png": "[encoded data removed]",
      "text/plain": [
       "<Figure size 432x288 with 1 Axes>"
      ]
     },
     "metadata": {
      "needs_background": "light"
     },
     "output_type": "display_data"
    }
   ],
   "source": [
    "plt.plot(CA['date'], CA['immobilier'], color='blue' )\n",
    "plt.plot(CA['date'], CA['automobile'], color='orange' )\n",
    "plt.show()"
   ]
  },
  {
   "cell_type": "code",
   "execution_count": 82,
   "id": "4adc3e4c",
   "metadata": {},
   "outputs": [
    {
     "data": {
      "image/png": "[encoded data removed]",
      "text/plain": [
       "<Figure size 432x288 with 1 Axes>"
      ]
     },
     "metadata": {
      "needs_background": "light"
     },
     "output_type": "display_data"
    }
   ],
   "source": [
    "plt.plot(CA['date'], CA['immobilier'], color='blue', label='immobilier' )\n",
    "plt.plot(CA['date'], CA['automobile'], color='orange', label='automobile' )\n",
    "plt.plot(CA['date'], CA['consommation'], color='green', label='consommation' )\n",
    "plt.show()"
   ]
  },
  {
   "cell_type": "code",
   "execution_count": 107,
   "id": "95909eed",
   "metadata": {},
   "outputs": [
    {
     "data": {
      "image/png": "[encoded data removed]",
      "text/plain": [
       "<Figure size 864x648 with 1 Axes>"
      ]
     },
     "metadata": {
      "needs_background": "light"
     },
     "output_type": "display_data"
    }
   ],
   "source": [
    "plt.figure(figsize=(12, 9))\n",
    "plt.plot(CA['date'], CA['immobilier'], color='blue', label='immobilier' )\n",
    "plt.plot(CA['date'], CA['automobile'], color='orange', label='automobile' )\n",
    "plt.plot(CA['date'], CA['consommation'], color='green', label='consommation' )\n",
    "plt.legend()\n",
    "plt.title(\"Bénéfices mensuels nets sur l'année 2021, par type de prêt\", fontname='Arial', fontsize=14)\n",
    "plt.ylabel('Benefice net (£)')\n",
    "plt.yticks(fontsize=11)\n",
    "plt.grid(color='grey')\n",
    "\n",
    "plt.show()"
   ]
  },
  {
   "cell_type": "code",
   "execution_count": 106,
   "id": "382ff950",
   "metadata": {},
   "outputs": [
    {
     "data": {
      "image/png": "[encoded data removed]",
      "text/plain": [
       "<Figure size 864x648 with 1 Axes>"
      ]
     },
     "metadata": {
      "needs_background": "light"
     },
     "output_type": "display_data"
    }
   ],
   "source": [
    "plt.figure(figsize=(12, 9))\n",
    "plt.plot(CA['date'], CA['immobilier'], color='blue', label='immobilier', linewidth=3 )\n",
    "plt.plot(CA['date'], CA['automobile'], color='orange', label='automobile', linewidth=3 )\n",
    "plt.plot(CA['date'], CA['consommation'], color='green', label='consommation', linewidth=3 )\n",
    "plt.legend(loc='upper right')\n",
    "plt.title(\"Bénéfices mensuels nets sur l'année 2021, par type de prêt\", fontname='Arial', fontsize=14)\n",
    "plt.xlabel('Date')\n",
    "plt.ylabel('Benefice net (£)', fontsize=13)\n",
    "plt.xticks(['2021-03','2021-06','2021-09', '2021-12'], fontsize=11)\n",
    "plt.yticks(fontsize=11)\n",
    "plt.grid(color='grey', linestyle='-', linewidth=0.5)\n",
    "\n",
    "plt.show()"
   ]
  },
  {
   "cell_type": "code",
   "execution_count": 5,
   "id": "d2f1ecb0",
   "metadata": {},
   "outputs": [
    {
     "data": {
      "text/html": [
       "<div>\n",
       "<style scoped>\n",
       "    .dataframe tbody tr th:only-of-type {\n",
       "        vertical-align: middle;\n",
       "    }\n",
       "\n",
       "    .dataframe tbody tr th {\n",
       "        vertical-align: top;\n",
       "    }\n",
       "\n",
       "    .dataframe thead th {\n",
       "        text-align: right;\n",
       "    }\n",
       "</style>\n",
       "<table border=\"1\" class=\"dataframe\">\n",
       "  <thead>\n",
       "    <tr style=\"text-align: right;\">\n",
       "      <th></th>\n",
       "      <th>type</th>\n",
       "      <th>0</th>\n",
       "    </tr>\n",
       "  </thead>\n",
       "  <tbody>\n",
       "    <tr>\n",
       "      <th>0</th>\n",
       "      <td>automobile</td>\n",
       "      <td>16</td>\n",
       "    </tr>\n",
       "    <tr>\n",
       "      <th>1</th>\n",
       "      <td>immobilier</td>\n",
       "      <td>228</td>\n",
       "    </tr>\n",
       "  </tbody>\n",
       "</table>\n",
       "</div>"
      ],
      "text/plain": [
       "         type    0\n",
       "0  automobile   16\n",
       "1  immobilier  228"
      ]
     },
     "execution_count": 5,
     "metadata": {},
     "output_type": "execute_result"
    }
   ],
   "source": [
    "type_agreg=prets.groupby('type').size().reset_index()\n",
    "type_agreg"
   ]
  },
  {
   "cell_type": "code",
   "execution_count": 6,
   "id": "733e7f19",
   "metadata": {},
   "outputs": [
    {
     "data": {
      "text/html": [
       "<div>\n",
       "<style scoped>\n",
       "    .dataframe tbody tr th:only-of-type {\n",
       "        vertical-align: middle;\n",
       "    }\n",
       "\n",
       "    .dataframe tbody tr th {\n",
       "        vertical-align: top;\n",
       "    }\n",
       "\n",
       "    .dataframe thead th {\n",
       "        text-align: right;\n",
       "    }\n",
       "</style>\n",
       "<table border=\"1\" class=\"dataframe\">\n",
       "  <thead>\n",
       "    <tr style=\"text-align: right;\">\n",
       "      <th></th>\n",
       "      <th>index</th>\n",
       "      <th>type</th>\n",
       "    </tr>\n",
       "  </thead>\n",
       "  <tbody>\n",
       "    <tr>\n",
       "      <th>0</th>\n",
       "      <td>immobilier</td>\n",
       "      <td>228</td>\n",
       "    </tr>\n",
       "    <tr>\n",
       "      <th>1</th>\n",
       "      <td>automobile</td>\n",
       "      <td>16</td>\n",
       "    </tr>\n",
       "  </tbody>\n",
       "</table>\n",
       "</div>"
      ],
      "text/plain": [
       "        index  type\n",
       "0  immobilier   228\n",
       "1  automobile    16"
      ]
     },
     "execution_count": 6,
     "metadata": {},
     "output_type": "execute_result"
    }
   ],
   "source": [
    "type_agreg=prets['type'].value_counts().reset_index()\n",
    "type_agreg"
   ]
  },
  {
   "cell_type": "code",
   "execution_count": 7,
   "id": "3b8af86f",
   "metadata": {},
   "outputs": [
    {
     "data": {
      "text/html": [
       "<div>\n",
       "<style scoped>\n",
       "    .dataframe tbody tr th:only-of-type {\n",
       "        vertical-align: middle;\n",
       "    }\n",
       "\n",
       "    .dataframe tbody tr th {\n",
       "        vertical-align: top;\n",
       "    }\n",
       "\n",
       "    .dataframe thead th {\n",
       "        text-align: right;\n",
       "    }\n",
       "</style>\n",
       "<table border=\"1\" class=\"dataframe\">\n",
       "  <thead>\n",
       "    <tr style=\"text-align: right;\">\n",
       "      <th></th>\n",
       "      <th>type</th>\n",
       "      <th>nombre</th>\n",
       "    </tr>\n",
       "  </thead>\n",
       "  <tbody>\n",
       "    <tr>\n",
       "      <th>0</th>\n",
       "      <td>immobilier</td>\n",
       "      <td>228</td>\n",
       "    </tr>\n",
       "    <tr>\n",
       "      <th>1</th>\n",
       "      <td>automobile</td>\n",
       "      <td>16</td>\n",
       "    </tr>\n",
       "  </tbody>\n",
       "</table>\n",
       "</div>"
      ],
      "text/plain": [
       "         type  nombre\n",
       "0  immobilier     228\n",
       "1  automobile      16"
      ]
     },
     "execution_count": 7,
     "metadata": {},
     "output_type": "execute_result"
    }
   ],
   "source": [
    "type_agreg.columns=['type','nombre']\n",
    "type_agreg"
   ]
  },
  {
   "cell_type": "code",
   "execution_count": 8,
   "id": "cf0de375",
   "metadata": {},
   "outputs": [
    {
     "data": {
      "text/plain": [
       "<BarContainer object of 2 artists>"
      ]
     },
     "execution_count": 8,
     "metadata": {},
     "output_type": "execute_result"
    },
    {
     "data": {
      "image/png": "[encoded data removed]",
      "text/plain": [
       "<Figure size 432x288 with 1 Axes>"
      ]
     },
     "metadata": {
      "needs_background": "light"
     },
     "output_type": "display_data"
    }
   ],
   "source": [
    "plt.bar(type_agreg['type'], type_agreg['nombre'])"
   ]
  },
  {
   "cell_type": "code",
   "execution_count": 10,
   "id": "7ad1b864",
   "metadata": {},
   "outputs": [
    {
     "data": {
      "text/plain": [
       "([<matplotlib.patches.Wedge at 0x4cd253e310>,\n",
       "  <matplotlib.patches.Wedge at 0x4cd253e9a0>],\n",
       " [Text(-1.0767412667284106, 0.22500720993803233, 'immobilier'),\n",
       "  Text(1.0767412772617573, -0.22500715953213574, 'automobile')],\n",
       " [Text(-0.5873134182154967, 0.1227312054207449, '93.44%'),\n",
       "  Text(0.5873134239609584, -0.12273117792661947, '6.56%')])"
      ]
     },
     "execution_count": 10,
     "metadata": {},
     "output_type": "execute_result"
    },
    {
     "data": {
      "image/png": "[encoded data removed]",
      "text/plain": [
       "<Figure size 432x288 with 1 Axes>"
      ]
     },
     "metadata": {},
     "output_type": "display_data"
    }
   ],
   "source": [
    "plt.pie(x=type_agreg['nombre'], labels=type_agreg['type'], autopct='%.2f%%')"
   ]
  },
  {
   "cell_type": "code",
   "execution_count": 20,
   "id": "dd1fa210",
   "metadata": {},
   "outputs": [
    {
     "data": {
      "text/html": [
       "<div>\n",
       "<style scoped>\n",
       "    .dataframe tbody tr th:only-of-type {\n",
       "        vertical-align: middle;\n",
       "    }\n",
       "\n",
       "    .dataframe tbody tr th {\n",
       "        vertical-align: top;\n",
       "    }\n",
       "\n",
       "    .dataframe thead th {\n",
       "        text-align: right;\n",
       "    }\n",
       "</style>\n",
       "<table border=\"1\" class=\"dataframe\">\n",
       "  <thead>\n",
       "    <tr style=\"text-align: right;\">\n",
       "      <th></th>\n",
       "      <th>identifiant</th>\n",
       "      <th>ville</th>\n",
       "      <th>CP</th>\n",
       "      <th>revenu</th>\n",
       "      <th>remboursement</th>\n",
       "      <th>duree</th>\n",
       "      <th>type</th>\n",
       "      <th>taux_interet</th>\n",
       "      <th>taux_endettement</th>\n",
       "      <th>cout_total</th>\n",
       "      <th>benefices</th>\n",
       "      <th>risque</th>\n",
       "    </tr>\n",
       "  </thead>\n",
       "  <tbody>\n",
       "    <tr>\n",
       "      <th>0</th>\n",
       "      <td>0</td>\n",
       "      <td>TOULOUSE</td>\n",
       "      <td>31100</td>\n",
       "      <td>3669.0</td>\n",
       "      <td>1130.05</td>\n",
       "      <td>240</td>\n",
       "      <td>immobilier</td>\n",
       "      <td>1.168</td>\n",
       "      <td>30.8</td>\n",
       "      <td>271212.0</td>\n",
       "      <td>131.99</td>\n",
       "      <td>Non</td>\n",
       "    </tr>\n",
       "    <tr>\n",
       "      <th>2</th>\n",
       "      <td>1</td>\n",
       "      <td>PARIS</td>\n",
       "      <td>75009</td>\n",
       "      <td>5310.0</td>\n",
       "      <td>1247.85</td>\n",
       "      <td>300</td>\n",
       "      <td>immobilier</td>\n",
       "      <td>1.173</td>\n",
       "      <td>23.5</td>\n",
       "      <td>374355.0</td>\n",
       "      <td>182.97</td>\n",
       "      <td>Non</td>\n",
       "    </tr>\n",
       "    <tr>\n",
       "      <th>3</th>\n",
       "      <td>2</td>\n",
       "      <td>MARSEILLE</td>\n",
       "      <td>13010</td>\n",
       "      <td>1873.0</td>\n",
       "      <td>552.54</td>\n",
       "      <td>240</td>\n",
       "      <td>immobilier</td>\n",
       "      <td>0.972</td>\n",
       "      <td>29.5</td>\n",
       "      <td>132609.6</td>\n",
       "      <td>53.71</td>\n",
       "      <td>Non</td>\n",
       "    </tr>\n",
       "    <tr>\n",
       "      <th>4</th>\n",
       "      <td>3</td>\n",
       "      <td>MARSEILLE</td>\n",
       "      <td>13010</td>\n",
       "      <td>1684.0</td>\n",
       "      <td>586.03</td>\n",
       "      <td>180</td>\n",
       "      <td>immobilier</td>\n",
       "      <td>1.014</td>\n",
       "      <td>34.8</td>\n",
       "      <td>105485.4</td>\n",
       "      <td>44.57</td>\n",
       "      <td>Non</td>\n",
       "    </tr>\n",
       "    <tr>\n",
       "      <th>5</th>\n",
       "      <td>4</td>\n",
       "      <td>MARSEILLE</td>\n",
       "      <td>13012</td>\n",
       "      <td>1476.0</td>\n",
       "      <td>423.61</td>\n",
       "      <td>240</td>\n",
       "      <td>immobilier</td>\n",
       "      <td>1.209</td>\n",
       "      <td>28.7</td>\n",
       "      <td>101666.4</td>\n",
       "      <td>51.21</td>\n",
       "      <td>Non</td>\n",
       "    </tr>\n",
       "    <tr>\n",
       "      <th>...</th>\n",
       "      <td>...</td>\n",
       "      <td>...</td>\n",
       "      <td>...</td>\n",
       "      <td>...</td>\n",
       "      <td>...</td>\n",
       "      <td>...</td>\n",
       "      <td>...</td>\n",
       "      <td>...</td>\n",
       "      <td>...</td>\n",
       "      <td>...</td>\n",
       "      <td>...</td>\n",
       "      <td>...</td>\n",
       "    </tr>\n",
       "    <tr>\n",
       "      <th>238</th>\n",
       "      <td>223</td>\n",
       "      <td>PARIS</td>\n",
       "      <td>75009</td>\n",
       "      <td>2127.0</td>\n",
       "      <td>672.13</td>\n",
       "      <td>240</td>\n",
       "      <td>immobilier</td>\n",
       "      <td>1.249</td>\n",
       "      <td>31.6</td>\n",
       "      <td>161311.2</td>\n",
       "      <td>83.95</td>\n",
       "      <td>Non</td>\n",
       "    </tr>\n",
       "    <tr>\n",
       "      <th>239</th>\n",
       "      <td>224</td>\n",
       "      <td>PARIS</td>\n",
       "      <td>75008</td>\n",
       "      <td>5118.0</td>\n",
       "      <td>1248.79</td>\n",
       "      <td>300</td>\n",
       "      <td>immobilier</td>\n",
       "      <td>1.206</td>\n",
       "      <td>24.4</td>\n",
       "      <td>374637.0</td>\n",
       "      <td>188.26</td>\n",
       "      <td>Non</td>\n",
       "    </tr>\n",
       "    <tr>\n",
       "      <th>241</th>\n",
       "      <td>225</td>\n",
       "      <td>BORDEAUX</td>\n",
       "      <td>33100</td>\n",
       "      <td>2356.0</td>\n",
       "      <td>876.43</td>\n",
       "      <td>180</td>\n",
       "      <td>immobilier</td>\n",
       "      <td>1.172</td>\n",
       "      <td>37.2</td>\n",
       "      <td>157757.4</td>\n",
       "      <td>77.04</td>\n",
       "      <td>Oui</td>\n",
       "    </tr>\n",
       "    <tr>\n",
       "      <th>242</th>\n",
       "      <td>226</td>\n",
       "      <td>PARIS</td>\n",
       "      <td>75002</td>\n",
       "      <td>5098.0</td>\n",
       "      <td>2910.96</td>\n",
       "      <td>240</td>\n",
       "      <td>immobilier</td>\n",
       "      <td>1.140</td>\n",
       "      <td>57.1</td>\n",
       "      <td>698630.4</td>\n",
       "      <td>331.85</td>\n",
       "      <td>Oui</td>\n",
       "    </tr>\n",
       "    <tr>\n",
       "      <th>243</th>\n",
       "      <td>227</td>\n",
       "      <td>PARIS</td>\n",
       "      <td>75015</td>\n",
       "      <td>2348.0</td>\n",
       "      <td>434.38</td>\n",
       "      <td>300</td>\n",
       "      <td>immobilier</td>\n",
       "      <td>1.157</td>\n",
       "      <td>18.5</td>\n",
       "      <td>130314.0</td>\n",
       "      <td>62.82</td>\n",
       "      <td>Non</td>\n",
       "    </tr>\n",
       "  </tbody>\n",
       "</table>\n",
       "<p>228 rows × 12 columns</p>\n",
       "</div>"
      ],
      "text/plain": [
       "     identifiant      ville     CP  revenu  remboursement  duree        type  \\\n",
       "0              0   TOULOUSE  31100  3669.0        1130.05    240  immobilier   \n",
       "2              1      PARIS  75009  5310.0        1247.85    300  immobilier   \n",
       "3              2  MARSEILLE  13010  1873.0         552.54    240  immobilier   \n",
       "4              3  MARSEILLE  13010  1684.0         586.03    180  immobilier   \n",
       "5              4  MARSEILLE  13012  1476.0         423.61    240  immobilier   \n",
       "..           ...        ...    ...     ...            ...    ...         ...   \n",
       "238          223      PARIS  75009  2127.0         672.13    240  immobilier   \n",
       "239          224      PARIS  75008  5118.0        1248.79    300  immobilier   \n",
       "241          225   BORDEAUX  33100  2356.0         876.43    180  immobilier   \n",
       "242          226      PARIS  75002  5098.0        2910.96    240  immobilier   \n",
       "243          227      PARIS  75015  2348.0         434.38    300  immobilier   \n",
       "\n",
       "     taux_interet  taux_endettement  cout_total  benefices risque  \n",
       "0           1.168              30.8    271212.0     131.99    Non  \n",
       "2           1.173              23.5    374355.0     182.97    Non  \n",
       "3           0.972              29.5    132609.6      53.71    Non  \n",
       "4           1.014              34.8    105485.4      44.57    Non  \n",
       "5           1.209              28.7    101666.4      51.21    Non  \n",
       "..            ...               ...         ...        ...    ...  \n",
       "238         1.249              31.6    161311.2      83.95    Non  \n",
       "239         1.206              24.4    374637.0     188.26    Non  \n",
       "241         1.172              37.2    157757.4      77.04    Oui  \n",
       "242         1.140              57.1    698630.4     331.85    Oui  \n",
       "243         1.157              18.5    130314.0      62.82    Non  \n",
       "\n",
       "[228 rows x 12 columns]"
      ]
     },
     "execution_count": 20,
     "metadata": {},
     "output_type": "execute_result"
    }
   ],
   "source": [
    "prets_imo = prets_exo.loc[prets_exo['type'] == 'immobilier', :]\n",
    "#plt.scatter(prets_imo['revenu'], prets_imo['benefices'])\n",
    "prets_imo"
   ]
  },
  {
   "cell_type": "code",
   "execution_count": 21,
   "id": "32e72255",
   "metadata": {},
   "outputs": [
    {
     "data": {
      "text/plain": [
       "<matplotlib.collections.PathCollection at 0x4cd5eb6dc0>"
      ]
     },
     "execution_count": 21,
     "metadata": {},
     "output_type": "execute_result"
    },
    {
     "data": {
      "image/png": "[encoded data removed]",
      "text/plain": [
       "<Figure size 432x288 with 1 Axes>"
      ]
     },
     "metadata": {
      "needs_background": "light"
     },
     "output_type": "display_data"
    }
   ],
   "source": [
    "#prets_imo = prets_exo.loc[prets_exo['type'] == 'immobilier', :]\n",
    "plt.scatter(prets_imo['revenu'], prets_imo['benefices'])"
   ]
  },
  {
   "cell_type": "code",
   "execution_count": 22,
   "id": "1a6184e6",
   "metadata": {},
   "outputs": [
    {
     "data": {
      "text/plain": [
       "(array([63., 77., 57., 20., 12.,  7.,  2.,  4.,  1.,  1.]),\n",
       " array([  8.49 ,  51.404,  94.318, 137.232, 180.146, 223.06 , 265.974,\n",
       "        308.888, 351.802, 394.716, 437.63 ]),\n",
       " <BarContainer object of 10 artists>)"
      ]
     },
     "execution_count": 22,
     "metadata": {},
     "output_type": "execute_result"
    },
    {
     "data": {
      "image/png": "[encoded data removed]",
      "text/plain": [
       "<Figure size 432x288 with 1 Axes>"
      ]
     },
     "metadata": {
      "needs_background": "light"
     },
     "output_type": "display_data"
    }
   ],
   "source": [
    "plt.hist(prets_exo['benefices'])"
   ]
  },
  {
   "cell_type": "code",
   "execution_count": 24,
   "id": "8eb24dd2",
   "metadata": {},
   "outputs": [
    {
     "data": {
      "text/html": [
       "<div>\n",
       "<style scoped>\n",
       "    .dataframe tbody tr th:only-of-type {\n",
       "        vertical-align: middle;\n",
       "    }\n",
       "\n",
       "    .dataframe tbody tr th {\n",
       "        vertical-align: top;\n",
       "    }\n",
       "\n",
       "    .dataframe thead th {\n",
       "        text-align: right;\n",
       "    }\n",
       "</style>\n",
       "<table border=\"1\" class=\"dataframe\">\n",
       "  <thead>\n",
       "    <tr style=\"text-align: right;\">\n",
       "      <th></th>\n",
       "      <th>ville</th>\n",
       "      <th>benefices</th>\n",
       "    </tr>\n",
       "  </thead>\n",
       "  <tbody>\n",
       "    <tr>\n",
       "      <th>0</th>\n",
       "      <td>BORDEAUX</td>\n",
       "      <td>1681.32</td>\n",
       "    </tr>\n",
       "    <tr>\n",
       "      <th>1</th>\n",
       "      <td>LYON</td>\n",
       "      <td>3014.80</td>\n",
       "    </tr>\n",
       "    <tr>\n",
       "      <th>2</th>\n",
       "      <td>MARSEILLE</td>\n",
       "      <td>4395.91</td>\n",
       "    </tr>\n",
       "    <tr>\n",
       "      <th>3</th>\n",
       "      <td>NICE</td>\n",
       "      <td>2682.75</td>\n",
       "    </tr>\n",
       "    <tr>\n",
       "      <th>4</th>\n",
       "      <td>PARIS</td>\n",
       "      <td>10016.35</td>\n",
       "    </tr>\n",
       "    <tr>\n",
       "      <th>5</th>\n",
       "      <td>TOULOUSE</td>\n",
       "      <td>2138.07</td>\n",
       "    </tr>\n",
       "  </tbody>\n",
       "</table>\n",
       "</div>"
      ],
      "text/plain": [
       "       ville  benefices\n",
       "0   BORDEAUX    1681.32\n",
       "1       LYON    3014.80\n",
       "2  MARSEILLE    4395.91\n",
       "3       NICE    2682.75\n",
       "4      PARIS   10016.35\n",
       "5   TOULOUSE    2138.07"
      ]
     },
     "execution_count": 24,
     "metadata": {},
     "output_type": "execute_result"
    }
   ],
   "source": [
    "benef_ville = prets_exo.groupby('ville')['benefices'].sum().reset_index()\n",
    "#plt.bar(benef_ville['ville'], benef_ville['benefices'])\n",
    "benef_ville"
   ]
  },
  {
   "cell_type": "code",
   "execution_count": 25,
   "id": "824aeadd",
   "metadata": {},
   "outputs": [
    {
     "data": {
      "text/plain": [
       "<BarContainer object of 6 artists>"
      ]
     },
     "execution_count": 25,
     "metadata": {},
     "output_type": "execute_result"
    },
    {
     "data": {
      "image/png": "[encoded data removed]",
      "text/plain": [
       "<Figure size 432x288 with 1 Axes>"
      ]
     },
     "metadata": {
      "needs_background": "light"
     },
     "output_type": "display_data"
    }
   ],
   "source": [
    "#benef_ville = prets_exo.groupby('ville')['benefices'].sum().reset_index()\n",
    "plt.bar(benef_ville['ville'], benef_ville['benefices'])\n"
   ]
  },
  {
   "cell_type": "code",
   "execution_count": null,
   "id": "45928e77",
   "metadata": {},
   "outputs": [],
   "source": []
  }
 ],
 "metadata": {
  "kernelspec": {
   "display_name": "Python 3 (ipykernel)",
   "language": "python",
   "name": "python3"
  },
  "language_info": {
   "codemirror_mode": {
    "name": "ipython",
    "version": 3
   },
   "file_extension": ".py",
   "mimetype": "text/x-python",
   "name": "python",
   "nbconvert_exporter": "python",
   "pygments_lexer": "ipython3",
   "version": "3.9.12"
  }
 },
 "nbformat": 4,
 "nbformat_minor": 5
}
