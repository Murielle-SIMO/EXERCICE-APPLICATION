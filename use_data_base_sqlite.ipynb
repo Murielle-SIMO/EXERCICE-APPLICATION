{
 "cells": [
  {
   "cell_type": "code",
   "execution_count": 1,
   "id": "2786764e",
   "metadata": {},
   "outputs": [],
   "source": [
    "import sqlite3"
   ]
  },
  {
   "cell_type": "code",
   "execution_count": 3,
   "id": "e6d88205",
   "metadata": {},
   "outputs": [
    {
     "ename": "SyntaxError",
     "evalue": "(unicode error) 'unicodeescape' codec can't decode bytes in position 31-32: malformed \\N character escape (1351190953.py, line 1)",
     "output_type": "error",
     "traceback": [
      "\u001b[1;36m  Input \u001b[1;32mIn [3]\u001b[1;36m\u001b[0m\n\u001b[1;33m    con = sqlite3.connect(\"C:Users\\Invité\\Desktop\\NewDB.db\")\u001b[0m\n\u001b[1;37m                                                           ^\u001b[0m\n\u001b[1;31mSyntaxError\u001b[0m\u001b[1;31m:\u001b[0m (unicode error) 'unicodeescape' codec can't decode bytes in position 31-32: malformed \\N character escape\n"
     ]
    }
   ],
   "source": [
    "con = sqlite3.connect(\"C:\\Users\\Invité\\Desktop\\NewDB.db\")"
   ]
  },
  {
   "cell_type": "code",
   "execution_count": 4,
   "id": "cc93a1f5",
   "metadata": {},
   "outputs": [],
   "source": [
    "con=sqlite3.connect(\"NewBD.db\")"
   ]
  },
  {
   "cell_type": "code",
   "execution_count": 5,
   "id": "1c8a8f25",
   "metadata": {},
   "outputs": [],
   "source": [
    "cur=con.cursor()"
   ]
  },
  {
   "cell_type": "code",
   "execution_count": 33,
   "id": "ad92dbbf",
   "metadata": {},
   "outputs": [
    {
     "data": {
      "text/plain": [
       "<sqlite3.Cursor at 0xbdd099cab0>"
      ]
     },
     "execution_count": 33,
     "metadata": {},
     "output_type": "execute_result"
    }
   ],
   "source": [
    "cur.execute(req)"
   ]
  },
  {
   "cell_type": "code",
   "execution_count": 34,
   "id": "d3a86bb9",
   "metadata": {},
   "outputs": [],
   "source": [
    "con.commit()"
   ]
  },
  {
   "cell_type": "code",
   "execution_count": 35,
   "id": "a3005b28",
   "metadata": {},
   "outputs": [],
   "source": [
    "req=(\"select * from students\")"
   ]
  },
  {
   "cell_type": "code",
   "execution_count": 18,
   "id": "e2d51081",
   "metadata": {},
   "outputs": [
    {
     "name": "stdout",
     "output_type": "stream",
     "text": [
      "(1, 'Simo', 'Serge Guy', 20.0)\n",
      "(4, 'Simo', 'Murielle', 20.0)\n",
      "(6, 'Djacheun', 'Kevin', 31.0)\n",
      "(7, 'Tchoukeu', 'Simplice', 31.0)\n",
      "(8, 'Datchoua', 'Tatiana', 15.0)\n",
      "(9, 'Teukam', 'Serge', 31.0)\n",
      "(10, 'Djamen', 'Gildas', 31.0)\n",
      "(11, 'Chimi', 'Olivier', 31.0)\n",
      "(12, 'Mbietheu', 'Cezar', 31.0)\n"
     ]
    }
   ],
   "source": [
    "con=sqlite3.connect(\"NewBD.db\")\n",
    "cur=con.cursor()\n",
    "\n",
    "\n",
    "req=(\"select * from students\")\n",
    "\n",
    "\n",
    "cur.execute(req)\n",
    "for l in cur: print(l)\n",
    "\n",
    "con.commit()\n",
    "con.close()"
   ]
  },
  {
   "cell_type": "code",
   "execution_count": null,
   "id": "69d65d8a",
   "metadata": {},
   "outputs": [],
   "source": []
  },
  {
   "cell_type": "code",
   "execution_count": null,
   "id": "39081fb4",
   "metadata": {},
   "outputs": [],
   "source": []
  }
 ],
 "metadata": {
  "kernelspec": {
   "display_name": "Python 3 (ipykernel)",
   "language": "python",
   "name": "python3"
  },
  "language_info": {
   "codemirror_mode": {
    "name": "ipython",
    "version": 3
   },
   "file_extension": ".py",
   "mimetype": "text/x-python",
   "name": "python",
   "nbconvert_exporter": "python",
   "pygments_lexer": "ipython3",
   "version": "3.9.12"
  }
 },
 "nbformat": 4,
 "nbformat_minor": 5
}
